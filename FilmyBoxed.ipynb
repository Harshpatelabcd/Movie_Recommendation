{
 "cells": [
  {
   "cell_type": "code",
   "execution_count": 153,
   "id": "b1878ff7-530a-427a-9ac7-21566f4b00c0",
   "metadata": {},
   "outputs": [],
   "source": [
    "import pandas as pd\n",
    "import numpy as np"
   ]
  },
  {
   "cell_type": "code",
   "execution_count": 154,
   "id": "740c63c4-63a3-459f-9f33-24340edbe3f0",
   "metadata": {},
   "outputs": [],
   "source": [
    "credits = pd.read_csv('credits.csv')"
   ]
  },
  {
   "cell_type": "code",
   "execution_count": 155,
   "id": "017ef0f8-dde1-4576-8bec-56098c085ee4",
   "metadata": {},
   "outputs": [
    {
     "data": {
      "text/html": [
       "<div>\n",
       "<style scoped>\n",
       "    .dataframe tbody tr th:only-of-type {\n",
       "        vertical-align: middle;\n",
       "    }\n",
       "\n",
       "    .dataframe tbody tr th {\n",
       "        vertical-align: top;\n",
       "    }\n",
       "\n",
       "    .dataframe thead th {\n",
       "        text-align: right;\n",
       "    }\n",
       "</style>\n",
       "<table border=\"1\" class=\"dataframe\">\n",
       "  <thead>\n",
       "    <tr style=\"text-align: right;\">\n",
       "      <th></th>\n",
       "      <th>cast</th>\n",
       "      <th>crew</th>\n",
       "      <th>id</th>\n",
       "    </tr>\n",
       "  </thead>\n",
       "  <tbody>\n",
       "    <tr>\n",
       "      <th>0</th>\n",
       "      <td>[{'cast_id': 14, 'character': 'Woody (voice)',...</td>\n",
       "      <td>[{'credit_id': '52fe4284c3a36847f8024f49', 'de...</td>\n",
       "      <td>862</td>\n",
       "    </tr>\n",
       "  </tbody>\n",
       "</table>\n",
       "</div>"
      ],
      "text/plain": [
       "                                                cast  \\\n",
       "0  [{'cast_id': 14, 'character': 'Woody (voice)',...   \n",
       "\n",
       "                                                crew   id  \n",
       "0  [{'credit_id': '52fe4284c3a36847f8024f49', 'de...  862  "
      ]
     },
     "execution_count": 155,
     "metadata": {},
     "output_type": "execute_result"
    }
   ],
   "source": [
    "credits.head(1)"
   ]
  },
  {
   "cell_type": "code",
   "execution_count": 156,
   "id": "a4686066-b963-412b-ac79-77e4da9dbc73",
   "metadata": {},
   "outputs": [
    {
     "name": "stderr",
     "output_type": "stream",
     "text": [
      "C:\\Users\\HARSH\\AppData\\Local\\Temp\\ipykernel_14604\\1543059564.py:1: DtypeWarning: Columns (10) have mixed types. Specify dtype option on import or set low_memory=False.\n",
      "  movies = pd.read_csv('movies_metadata.csv')\n"
     ]
    }
   ],
   "source": [
    "movies = pd.read_csv('movies_metadata.csv')\n",
    "ratings = pd.read_csv('ratings_small.csv')\n",
    "users = pd.read_csv('users.csv')"
   ]
  },
  {
   "cell_type": "code",
   "execution_count": 157,
   "id": "83b0a34a",
   "metadata": {},
   "outputs": [],
   "source": [
    "credits['id']=credits['id'].astype(str)"
   ]
  },
  {
   "cell_type": "code",
   "execution_count": 158,
   "id": "75f4944a",
   "metadata": {
    "scrolled": true
   },
   "outputs": [
    {
     "data": {
      "text/plain": [
       "adult                        0\n",
       "belongs_to_collection    40972\n",
       "budget                       0\n",
       "genres                       0\n",
       "homepage                 37684\n",
       "id                           0\n",
       "imdb_id                     17\n",
       "original_language           11\n",
       "original_title               0\n",
       "overview                   954\n",
       "popularity                   5\n",
       "poster_path                386\n",
       "production_companies         3\n",
       "production_countries         3\n",
       "release_date                87\n",
       "revenue                      6\n",
       "runtime                    263\n",
       "spoken_languages             6\n",
       "status                      87\n",
       "tagline                  25054\n",
       "title                        6\n",
       "video                        6\n",
       "vote_average                 6\n",
       "vote_count                   6\n",
       "dtype: int64"
      ]
     },
     "execution_count": 158,
     "metadata": {},
     "output_type": "execute_result"
    }
   ],
   "source": [
    "movies.isnull().sum()"
   ]
  },
  {
   "cell_type": "code",
   "execution_count": 159,
   "id": "4926bb02-fa3e-4d08-a6e7-bc1b0247ee77",
   "metadata": {},
   "outputs": [],
   "source": [
    "movies=movies.merge(credits,on='id')"
   ]
  },
  {
   "cell_type": "code",
   "execution_count": 160,
   "id": "7a14f3d2-db6d-4957-9652-3ea95b693a53",
   "metadata": {},
   "outputs": [
    {
     "data": {
      "text/html": [
       "<div>\n",
       "<style scoped>\n",
       "    .dataframe tbody tr th:only-of-type {\n",
       "        vertical-align: middle;\n",
       "    }\n",
       "\n",
       "    .dataframe tbody tr th {\n",
       "        vertical-align: top;\n",
       "    }\n",
       "\n",
       "    .dataframe thead th {\n",
       "        text-align: right;\n",
       "    }\n",
       "</style>\n",
       "<table border=\"1\" class=\"dataframe\">\n",
       "  <thead>\n",
       "    <tr style=\"text-align: right;\">\n",
       "      <th></th>\n",
       "      <th>adult</th>\n",
       "      <th>belongs_to_collection</th>\n",
       "      <th>budget</th>\n",
       "      <th>genres</th>\n",
       "      <th>homepage</th>\n",
       "      <th>id</th>\n",
       "      <th>imdb_id</th>\n",
       "      <th>original_language</th>\n",
       "      <th>original_title</th>\n",
       "      <th>overview</th>\n",
       "      <th>...</th>\n",
       "      <th>runtime</th>\n",
       "      <th>spoken_languages</th>\n",
       "      <th>status</th>\n",
       "      <th>tagline</th>\n",
       "      <th>title</th>\n",
       "      <th>video</th>\n",
       "      <th>vote_average</th>\n",
       "      <th>vote_count</th>\n",
       "      <th>cast</th>\n",
       "      <th>crew</th>\n",
       "    </tr>\n",
       "  </thead>\n",
       "  <tbody>\n",
       "    <tr>\n",
       "      <th>0</th>\n",
       "      <td>FALSE</td>\n",
       "      <td>[{'id': 10194, 'name': 'Toy Story Collection',...</td>\n",
       "      <td>30000000</td>\n",
       "      <td>[{'id': 16, 'name': 'Animation'}, {'id': 35, '...</td>\n",
       "      <td>http://toystory.disney.com/toy-story</td>\n",
       "      <td>862</td>\n",
       "      <td>tt0114709</td>\n",
       "      <td>en</td>\n",
       "      <td>Toy Story</td>\n",
       "      <td>Led by Woody, Andy's toys live happily in his ...</td>\n",
       "      <td>...</td>\n",
       "      <td>81.0</td>\n",
       "      <td>[{'iso_639_1': 'en', 'name': 'English'}]</td>\n",
       "      <td>Released</td>\n",
       "      <td>NaN</td>\n",
       "      <td>Toy Story</td>\n",
       "      <td>False</td>\n",
       "      <td>7.7</td>\n",
       "      <td>5415.0</td>\n",
       "      <td>[{'cast_id': 14, 'character': 'Woody (voice)',...</td>\n",
       "      <td>[{'credit_id': '52fe4284c3a36847f8024f49', 'de...</td>\n",
       "    </tr>\n",
       "  </tbody>\n",
       "</table>\n",
       "<p>1 rows × 26 columns</p>\n",
       "</div>"
      ],
      "text/plain": [
       "   adult                              belongs_to_collection    budget  \\\n",
       "0  FALSE  [{'id': 10194, 'name': 'Toy Story Collection',...  30000000   \n",
       "\n",
       "                                              genres  \\\n",
       "0  [{'id': 16, 'name': 'Animation'}, {'id': 35, '...   \n",
       "\n",
       "                               homepage   id    imdb_id original_language  \\\n",
       "0  http://toystory.disney.com/toy-story  862  tt0114709                en   \n",
       "\n",
       "  original_title                                           overview  ...  \\\n",
       "0      Toy Story  Led by Woody, Andy's toys live happily in his ...  ...   \n",
       "\n",
       "  runtime                          spoken_languages    status tagline  \\\n",
       "0    81.0  [{'iso_639_1': 'en', 'name': 'English'}]  Released     NaN   \n",
       "\n",
       "       title  video  vote_average vote_count  \\\n",
       "0  Toy Story  False           7.7     5415.0   \n",
       "\n",
       "                                                cast  \\\n",
       "0  [{'cast_id': 14, 'character': 'Woody (voice)',...   \n",
       "\n",
       "                                                crew  \n",
       "0  [{'credit_id': '52fe4284c3a36847f8024f49', 'de...  \n",
       "\n",
       "[1 rows x 26 columns]"
      ]
     },
     "execution_count": 160,
     "metadata": {},
     "output_type": "execute_result"
    }
   ],
   "source": [
    "movies.head(1)"
   ]
  },
  {
   "cell_type": "code",
   "execution_count": 161,
   "id": "d0f0df5b",
   "metadata": {},
   "outputs": [
    {
     "data": {
      "text/plain": [
       "adult                        0\n",
       "belongs_to_collection    41038\n",
       "budget                       0\n",
       "genres                       0\n",
       "homepage                 37746\n",
       "id                           0\n",
       "imdb_id                     17\n",
       "original_language           11\n",
       "original_title               0\n",
       "overview                   954\n",
       "popularity                   3\n",
       "poster_path                386\n",
       "production_companies         3\n",
       "production_countries         3\n",
       "release_date                87\n",
       "revenue                      3\n",
       "runtime                    260\n",
       "spoken_languages             3\n",
       "status                      84\n",
       "tagline                  25099\n",
       "title                        3\n",
       "video                        3\n",
       "vote_average                 3\n",
       "vote_count                   3\n",
       "cast                         0\n",
       "crew                         0\n",
       "dtype: int64"
      ]
     },
     "execution_count": 161,
     "metadata": {},
     "output_type": "execute_result"
    }
   ],
   "source": [
    "movies.isnull().sum()"
   ]
  },
  {
   "cell_type": "code",
   "execution_count": 162,
   "id": "7ba72c02",
   "metadata": {},
   "outputs": [],
   "source": [
    "movies = movies[['belongs_to_collection','genres','id','original_title','overview','cast','crew']]"
   ]
  },
  {
   "cell_type": "code",
   "execution_count": 163,
   "id": "4077ba52",
   "metadata": {},
   "outputs": [
    {
     "data": {
      "text/html": [
       "<div>\n",
       "<style scoped>\n",
       "    .dataframe tbody tr th:only-of-type {\n",
       "        vertical-align: middle;\n",
       "    }\n",
       "\n",
       "    .dataframe tbody tr th {\n",
       "        vertical-align: top;\n",
       "    }\n",
       "\n",
       "    .dataframe thead th {\n",
       "        text-align: right;\n",
       "    }\n",
       "</style>\n",
       "<table border=\"1\" class=\"dataframe\">\n",
       "  <thead>\n",
       "    <tr style=\"text-align: right;\">\n",
       "      <th></th>\n",
       "      <th>belongs_to_collection</th>\n",
       "      <th>genres</th>\n",
       "      <th>id</th>\n",
       "      <th>original_title</th>\n",
       "      <th>overview</th>\n",
       "      <th>cast</th>\n",
       "      <th>crew</th>\n",
       "    </tr>\n",
       "  </thead>\n",
       "  <tbody>\n",
       "    <tr>\n",
       "      <th>0</th>\n",
       "      <td>[{'id': 10194, 'name': 'Toy Story Collection',...</td>\n",
       "      <td>[{'id': 16, 'name': 'Animation'}, {'id': 35, '...</td>\n",
       "      <td>862</td>\n",
       "      <td>Toy Story</td>\n",
       "      <td>Led by Woody, Andy's toys live happily in his ...</td>\n",
       "      <td>[{'cast_id': 14, 'character': 'Woody (voice)',...</td>\n",
       "      <td>[{'credit_id': '52fe4284c3a36847f8024f49', 'de...</td>\n",
       "    </tr>\n",
       "  </tbody>\n",
       "</table>\n",
       "</div>"
      ],
      "text/plain": [
       "                               belongs_to_collection  \\\n",
       "0  [{'id': 10194, 'name': 'Toy Story Collection',...   \n",
       "\n",
       "                                              genres   id original_title  \\\n",
       "0  [{'id': 16, 'name': 'Animation'}, {'id': 35, '...  862      Toy Story   \n",
       "\n",
       "                                            overview  \\\n",
       "0  Led by Woody, Andy's toys live happily in his ...   \n",
       "\n",
       "                                                cast  \\\n",
       "0  [{'cast_id': 14, 'character': 'Woody (voice)',...   \n",
       "\n",
       "                                                crew  \n",
       "0  [{'credit_id': '52fe4284c3a36847f8024f49', 'de...  "
      ]
     },
     "execution_count": 163,
     "metadata": {},
     "output_type": "execute_result"
    }
   ],
   "source": [
    "movies.head(1)"
   ]
  },
  {
   "cell_type": "code",
   "execution_count": 164,
   "id": "9120a691",
   "metadata": {},
   "outputs": [
    {
     "data": {
      "text/plain": [
       "belongs_to_collection    41038\n",
       "genres                       0\n",
       "id                           0\n",
       "original_title               0\n",
       "overview                   954\n",
       "cast                         0\n",
       "crew                         0\n",
       "dtype: int64"
      ]
     },
     "execution_count": 164,
     "metadata": {},
     "output_type": "execute_result"
    }
   ],
   "source": [
    "movies.isnull().sum()"
   ]
  },
  {
   "cell_type": "code",
   "execution_count": 165,
   "id": "c527b386",
   "metadata": {},
   "outputs": [
    {
     "data": {
      "text/plain": [
       "99"
      ]
     },
     "execution_count": 165,
     "metadata": {},
     "output_type": "execute_result"
    }
   ],
   "source": [
    "movies.duplicated().sum()"
   ]
  },
  {
   "cell_type": "code",
   "execution_count": 166,
   "id": "3689bf46",
   "metadata": {},
   "outputs": [],
   "source": [
    "movies.dropna(inplace=True)"
   ]
  },
  {
   "cell_type": "code",
   "execution_count": 167,
   "id": "6dc74efd",
   "metadata": {},
   "outputs": [
    {
     "data": {
      "text/plain": [
       "11"
      ]
     },
     "execution_count": 167,
     "metadata": {},
     "output_type": "execute_result"
    }
   ],
   "source": [
    "movies.duplicated().sum()"
   ]
  },
  {
   "cell_type": "code",
   "execution_count": 168,
   "id": "2a1625a3",
   "metadata": {},
   "outputs": [
    {
     "data": {
      "text/plain": [
       "belongs_to_collection    0\n",
       "genres                   0\n",
       "id                       0\n",
       "original_title           0\n",
       "overview                 0\n",
       "cast                     0\n",
       "crew                     0\n",
       "dtype: int64"
      ]
     },
     "execution_count": 168,
     "metadata": {},
     "output_type": "execute_result"
    }
   ],
   "source": [
    "movies.isnull().sum()"
   ]
  },
  {
   "cell_type": "code",
   "execution_count": 169,
   "id": "73418aca",
   "metadata": {},
   "outputs": [
    {
     "data": {
      "text/plain": [
       "11"
      ]
     },
     "execution_count": 169,
     "metadata": {},
     "output_type": "execute_result"
    }
   ],
   "source": [
    "movies.duplicated().sum()"
   ]
  },
  {
   "cell_type": "code",
   "execution_count": 170,
   "id": "a16a274d",
   "metadata": {},
   "outputs": [
    {
     "data": {
      "text/html": [
       "<div>\n",
       "<style scoped>\n",
       "    .dataframe tbody tr th:only-of-type {\n",
       "        vertical-align: middle;\n",
       "    }\n",
       "\n",
       "    .dataframe tbody tr th {\n",
       "        vertical-align: top;\n",
       "    }\n",
       "\n",
       "    .dataframe thead th {\n",
       "        text-align: right;\n",
       "    }\n",
       "</style>\n",
       "<table border=\"1\" class=\"dataframe\">\n",
       "  <thead>\n",
       "    <tr style=\"text-align: right;\">\n",
       "      <th></th>\n",
       "      <th>belongs_to_collection</th>\n",
       "      <th>genres</th>\n",
       "      <th>id</th>\n",
       "      <th>original_title</th>\n",
       "      <th>overview</th>\n",
       "      <th>cast</th>\n",
       "      <th>crew</th>\n",
       "    </tr>\n",
       "  </thead>\n",
       "  <tbody>\n",
       "    <tr>\n",
       "      <th>0</th>\n",
       "      <td>[{'id': 10194, 'name': 'Toy Story Collection',...</td>\n",
       "      <td>[{'id': 16, 'name': 'Animation'}, {'id': 35, '...</td>\n",
       "      <td>862</td>\n",
       "      <td>Toy Story</td>\n",
       "      <td>Led by Woody, Andy's toys live happily in his ...</td>\n",
       "      <td>[{'cast_id': 14, 'character': 'Woody (voice)',...</td>\n",
       "      <td>[{'credit_id': '52fe4284c3a36847f8024f49', 'de...</td>\n",
       "    </tr>\n",
       "    <tr>\n",
       "      <th>2</th>\n",
       "      <td>[{'id': 119050, 'name': 'Grumpy Old Men Collec...</td>\n",
       "      <td>[{'id': 10749, 'name': 'Romance'}, {'id': 35, ...</td>\n",
       "      <td>15602</td>\n",
       "      <td>Grumpier Old Men</td>\n",
       "      <td>A family wedding reignites the ancient feud be...</td>\n",
       "      <td>[{'cast_id': 2, 'character': 'Max Goldman', 'c...</td>\n",
       "      <td>[{'credit_id': '52fe466a9251416c75077a89', 'de...</td>\n",
       "    </tr>\n",
       "    <tr>\n",
       "      <th>4</th>\n",
       "      <td>[{'id': 96871, 'name': 'Father of the Bride Co...</td>\n",
       "      <td>[{'id': 35, 'name': 'Comedy'}]</td>\n",
       "      <td>11862</td>\n",
       "      <td>Father of the Bride Part II</td>\n",
       "      <td>Just when George Banks has recovered from his ...</td>\n",
       "      <td>[{'cast_id': 1, 'character': 'George Banks', '...</td>\n",
       "      <td>[{'credit_id': '52fe44959251416c75039ed7', 'de...</td>\n",
       "    </tr>\n",
       "    <tr>\n",
       "      <th>9</th>\n",
       "      <td>[{'id': 645, 'name': 'James Bond Collection', ...</td>\n",
       "      <td>[{'id': 12, 'name': 'Adventure'}, {'id': 28, '...</td>\n",
       "      <td>710</td>\n",
       "      <td>GoldenEye</td>\n",
       "      <td>James Bond must unmask the mysterious head of ...</td>\n",
       "      <td>[{'cast_id': 1, 'character': 'James Bond', 'cr...</td>\n",
       "      <td>[{'credit_id': '52fe426ec3a36847f801e14b', 'de...</td>\n",
       "    </tr>\n",
       "    <tr>\n",
       "      <th>12</th>\n",
       "      <td>[{'id': 117693, 'name': 'Balto Collection', 'p...</td>\n",
       "      <td>[{'id': 10751, 'name': 'Family'}, {'id': 16, '...</td>\n",
       "      <td>21032</td>\n",
       "      <td>Balto</td>\n",
       "      <td>An outcast half-wolf risks his life to prevent...</td>\n",
       "      <td>[{'cast_id': 1, 'character': 'Balto (voice)', ...</td>\n",
       "      <td>[{'credit_id': '593f24b9c3a3680369002371', 'de...</td>\n",
       "    </tr>\n",
       "    <tr>\n",
       "      <th>...</th>\n",
       "      <td>...</td>\n",
       "      <td>...</td>\n",
       "      <td>...</td>\n",
       "      <td>...</td>\n",
       "      <td>...</td>\n",
       "      <td>...</td>\n",
       "      <td>...</td>\n",
       "    </tr>\n",
       "    <tr>\n",
       "      <th>45427</th>\n",
       "      <td>[{'id': 37261, 'name': 'The Carry On Collectio...</td>\n",
       "      <td>[{'id': 35, 'name': 'Comedy'}]</td>\n",
       "      <td>24568</td>\n",
       "      <td>Follow That Camel</td>\n",
       "      <td>Bertram Oliphant West (also known as Bo West) ...</td>\n",
       "      <td>[{'cast_id': 3, 'character': 'Sergeant Nocker'...</td>\n",
       "      <td>[{'credit_id': '52fe449dc3a368484e02d0f7', 'de...</td>\n",
       "    </tr>\n",
       "    <tr>\n",
       "      <th>45430</th>\n",
       "      <td>[{'id': 37261, 'name': 'The Carry On Collectio...</td>\n",
       "      <td>[{'id': 35, 'name': 'Comedy'}]</td>\n",
       "      <td>19307</td>\n",
       "      <td>Carry On Camping</td>\n",
       "      <td>Sid and Bernie keep having their amorous inten...</td>\n",
       "      <td>[{'cast_id': 3, 'character': 'Sid Boggle', 'cr...</td>\n",
       "      <td>[{'credit_id': '52fe47cf9251416c750a61d7', 'de...</td>\n",
       "    </tr>\n",
       "    <tr>\n",
       "      <th>45441</th>\n",
       "      <td>[{'id': 37261, 'name': 'The Carry On Collectio...</td>\n",
       "      <td>[{'id': 35, 'name': 'Comedy'}]</td>\n",
       "      <td>21251</td>\n",
       "      <td>Carry On England</td>\n",
       "      <td>Captain S. Melly takes over as the new Command...</td>\n",
       "      <td>[{'cast_id': 4, 'character': 'Captain S. Melly...</td>\n",
       "      <td>[{'credit_id': '52fe4411c3a368484e00da03', 'de...</td>\n",
       "    </tr>\n",
       "    <tr>\n",
       "      <th>45443</th>\n",
       "      <td>[{'id': 477208, 'name': 'DC Super Hero Girls C...</td>\n",
       "      <td>[{'id': 16, 'name': 'Animation'}]</td>\n",
       "      <td>460135</td>\n",
       "      <td>LEGO DC Super Hero Girls: Brain Drain</td>\n",
       "      <td>When Supergirl, Wonder Woman, Batgirl, Bumbleb...</td>\n",
       "      <td>[{'cast_id': 0, 'character': 'Wonder Woman', '...</td>\n",
       "      <td>[{'credit_id': '593136c092514115e500aafd', 'de...</td>\n",
       "    </tr>\n",
       "    <tr>\n",
       "      <th>45454</th>\n",
       "      <td>[{'id': 200641, 'name': 'Red Lotus Collection'...</td>\n",
       "      <td>[{'id': 28, 'name': 'Action'}, {'id': 10769, '...</td>\n",
       "      <td>182030</td>\n",
       "      <td>火燒紅蓮寺之鴛鴦劍俠</td>\n",
       "      <td>Kwei Wu happens upon a kidnapping with his wif...</td>\n",
       "      <td>[{'cast_id': 4, 'character': 'Gui Wu', 'credit...</td>\n",
       "      <td>[{'credit_id': '52fe4c789251416c7511b6cd', 'de...</td>\n",
       "    </tr>\n",
       "  </tbody>\n",
       "</table>\n",
       "<p>4430 rows × 7 columns</p>\n",
       "</div>"
      ],
      "text/plain": [
       "                                   belongs_to_collection  \\\n",
       "0      [{'id': 10194, 'name': 'Toy Story Collection',...   \n",
       "2      [{'id': 119050, 'name': 'Grumpy Old Men Collec...   \n",
       "4      [{'id': 96871, 'name': 'Father of the Bride Co...   \n",
       "9      [{'id': 645, 'name': 'James Bond Collection', ...   \n",
       "12     [{'id': 117693, 'name': 'Balto Collection', 'p...   \n",
       "...                                                  ...   \n",
       "45427  [{'id': 37261, 'name': 'The Carry On Collectio...   \n",
       "45430  [{'id': 37261, 'name': 'The Carry On Collectio...   \n",
       "45441  [{'id': 37261, 'name': 'The Carry On Collectio...   \n",
       "45443  [{'id': 477208, 'name': 'DC Super Hero Girls C...   \n",
       "45454  [{'id': 200641, 'name': 'Red Lotus Collection'...   \n",
       "\n",
       "                                                  genres      id  \\\n",
       "0      [{'id': 16, 'name': 'Animation'}, {'id': 35, '...     862   \n",
       "2      [{'id': 10749, 'name': 'Romance'}, {'id': 35, ...   15602   \n",
       "4                         [{'id': 35, 'name': 'Comedy'}]   11862   \n",
       "9      [{'id': 12, 'name': 'Adventure'}, {'id': 28, '...     710   \n",
       "12     [{'id': 10751, 'name': 'Family'}, {'id': 16, '...   21032   \n",
       "...                                                  ...     ...   \n",
       "45427                     [{'id': 35, 'name': 'Comedy'}]   24568   \n",
       "45430                     [{'id': 35, 'name': 'Comedy'}]   19307   \n",
       "45441                     [{'id': 35, 'name': 'Comedy'}]   21251   \n",
       "45443                  [{'id': 16, 'name': 'Animation'}]  460135   \n",
       "45454  [{'id': 28, 'name': 'Action'}, {'id': 10769, '...  182030   \n",
       "\n",
       "                              original_title  \\\n",
       "0                                  Toy Story   \n",
       "2                           Grumpier Old Men   \n",
       "4                Father of the Bride Part II   \n",
       "9                                  GoldenEye   \n",
       "12                                     Balto   \n",
       "...                                      ...   \n",
       "45427                      Follow That Camel   \n",
       "45430                       Carry On Camping   \n",
       "45441                       Carry On England   \n",
       "45443  LEGO DC Super Hero Girls: Brain Drain   \n",
       "45454                             火燒紅蓮寺之鴛鴦劍俠   \n",
       "\n",
       "                                                overview  \\\n",
       "0      Led by Woody, Andy's toys live happily in his ...   \n",
       "2      A family wedding reignites the ancient feud be...   \n",
       "4      Just when George Banks has recovered from his ...   \n",
       "9      James Bond must unmask the mysterious head of ...   \n",
       "12     An outcast half-wolf risks his life to prevent...   \n",
       "...                                                  ...   \n",
       "45427  Bertram Oliphant West (also known as Bo West) ...   \n",
       "45430  Sid and Bernie keep having their amorous inten...   \n",
       "45441  Captain S. Melly takes over as the new Command...   \n",
       "45443  When Supergirl, Wonder Woman, Batgirl, Bumbleb...   \n",
       "45454  Kwei Wu happens upon a kidnapping with his wif...   \n",
       "\n",
       "                                                    cast  \\\n",
       "0      [{'cast_id': 14, 'character': 'Woody (voice)',...   \n",
       "2      [{'cast_id': 2, 'character': 'Max Goldman', 'c...   \n",
       "4      [{'cast_id': 1, 'character': 'George Banks', '...   \n",
       "9      [{'cast_id': 1, 'character': 'James Bond', 'cr...   \n",
       "12     [{'cast_id': 1, 'character': 'Balto (voice)', ...   \n",
       "...                                                  ...   \n",
       "45427  [{'cast_id': 3, 'character': 'Sergeant Nocker'...   \n",
       "45430  [{'cast_id': 3, 'character': 'Sid Boggle', 'cr...   \n",
       "45441  [{'cast_id': 4, 'character': 'Captain S. Melly...   \n",
       "45443  [{'cast_id': 0, 'character': 'Wonder Woman', '...   \n",
       "45454  [{'cast_id': 4, 'character': 'Gui Wu', 'credit...   \n",
       "\n",
       "                                                    crew  \n",
       "0      [{'credit_id': '52fe4284c3a36847f8024f49', 'de...  \n",
       "2      [{'credit_id': '52fe466a9251416c75077a89', 'de...  \n",
       "4      [{'credit_id': '52fe44959251416c75039ed7', 'de...  \n",
       "9      [{'credit_id': '52fe426ec3a36847f801e14b', 'de...  \n",
       "12     [{'credit_id': '593f24b9c3a3680369002371', 'de...  \n",
       "...                                                  ...  \n",
       "45427  [{'credit_id': '52fe449dc3a368484e02d0f7', 'de...  \n",
       "45430  [{'credit_id': '52fe47cf9251416c750a61d7', 'de...  \n",
       "45441  [{'credit_id': '52fe4411c3a368484e00da03', 'de...  \n",
       "45443  [{'credit_id': '593136c092514115e500aafd', 'de...  \n",
       "45454  [{'credit_id': '52fe4c789251416c7511b6cd', 'de...  \n",
       "\n",
       "[4430 rows x 7 columns]"
      ]
     },
     "execution_count": 170,
     "metadata": {},
     "output_type": "execute_result"
    }
   ],
   "source": [
    "movies.drop_duplicates()"
   ]
  },
  {
   "cell_type": "code",
   "execution_count": 171,
   "id": "a0062e35",
   "metadata": {},
   "outputs": [
    {
     "data": {
      "text/plain": [
       "11"
      ]
     },
     "execution_count": 171,
     "metadata": {},
     "output_type": "execute_result"
    }
   ],
   "source": [
    "movies.duplicated().sum()"
   ]
  },
  {
   "cell_type": "markdown",
   "id": "5f8bce8b",
   "metadata": {},
   "source": [
    "Content based.............."
   ]
  },
  {
   "cell_type": "code",
   "execution_count": 172,
   "id": "0ad17a08",
   "metadata": {},
   "outputs": [
    {
     "data": {
      "text/html": [
       "<div>\n",
       "<style scoped>\n",
       "    .dataframe tbody tr th:only-of-type {\n",
       "        vertical-align: middle;\n",
       "    }\n",
       "\n",
       "    .dataframe tbody tr th {\n",
       "        vertical-align: top;\n",
       "    }\n",
       "\n",
       "    .dataframe thead th {\n",
       "        text-align: right;\n",
       "    }\n",
       "</style>\n",
       "<table border=\"1\" class=\"dataframe\">\n",
       "  <thead>\n",
       "    <tr style=\"text-align: right;\">\n",
       "      <th></th>\n",
       "      <th>belongs_to_collection</th>\n",
       "      <th>genres</th>\n",
       "      <th>id</th>\n",
       "      <th>original_title</th>\n",
       "      <th>overview</th>\n",
       "      <th>cast</th>\n",
       "      <th>crew</th>\n",
       "    </tr>\n",
       "  </thead>\n",
       "  <tbody>\n",
       "    <tr>\n",
       "      <th>0</th>\n",
       "      <td>[{'id': 10194, 'name': 'Toy Story Collection',...</td>\n",
       "      <td>[{'id': 16, 'name': 'Animation'}, {'id': 35, '...</td>\n",
       "      <td>862</td>\n",
       "      <td>Toy Story</td>\n",
       "      <td>Led by Woody, Andy's toys live happily in his ...</td>\n",
       "      <td>[{'cast_id': 14, 'character': 'Woody (voice)',...</td>\n",
       "      <td>[{'credit_id': '52fe4284c3a36847f8024f49', 'de...</td>\n",
       "    </tr>\n",
       "    <tr>\n",
       "      <th>2</th>\n",
       "      <td>[{'id': 119050, 'name': 'Grumpy Old Men Collec...</td>\n",
       "      <td>[{'id': 10749, 'name': 'Romance'}, {'id': 35, ...</td>\n",
       "      <td>15602</td>\n",
       "      <td>Grumpier Old Men</td>\n",
       "      <td>A family wedding reignites the ancient feud be...</td>\n",
       "      <td>[{'cast_id': 2, 'character': 'Max Goldman', 'c...</td>\n",
       "      <td>[{'credit_id': '52fe466a9251416c75077a89', 'de...</td>\n",
       "    </tr>\n",
       "    <tr>\n",
       "      <th>4</th>\n",
       "      <td>[{'id': 96871, 'name': 'Father of the Bride Co...</td>\n",
       "      <td>[{'id': 35, 'name': 'Comedy'}]</td>\n",
       "      <td>11862</td>\n",
       "      <td>Father of the Bride Part II</td>\n",
       "      <td>Just when George Banks has recovered from his ...</td>\n",
       "      <td>[{'cast_id': 1, 'character': 'George Banks', '...</td>\n",
       "      <td>[{'credit_id': '52fe44959251416c75039ed7', 'de...</td>\n",
       "    </tr>\n",
       "    <tr>\n",
       "      <th>9</th>\n",
       "      <td>[{'id': 645, 'name': 'James Bond Collection', ...</td>\n",
       "      <td>[{'id': 12, 'name': 'Adventure'}, {'id': 28, '...</td>\n",
       "      <td>710</td>\n",
       "      <td>GoldenEye</td>\n",
       "      <td>James Bond must unmask the mysterious head of ...</td>\n",
       "      <td>[{'cast_id': 1, 'character': 'James Bond', 'cr...</td>\n",
       "      <td>[{'credit_id': '52fe426ec3a36847f801e14b', 'de...</td>\n",
       "    </tr>\n",
       "    <tr>\n",
       "      <th>12</th>\n",
       "      <td>[{'id': 117693, 'name': 'Balto Collection', 'p...</td>\n",
       "      <td>[{'id': 10751, 'name': 'Family'}, {'id': 16, '...</td>\n",
       "      <td>21032</td>\n",
       "      <td>Balto</td>\n",
       "      <td>An outcast half-wolf risks his life to prevent...</td>\n",
       "      <td>[{'cast_id': 1, 'character': 'Balto (voice)', ...</td>\n",
       "      <td>[{'credit_id': '593f24b9c3a3680369002371', 'de...</td>\n",
       "    </tr>\n",
       "  </tbody>\n",
       "</table>\n",
       "</div>"
      ],
      "text/plain": [
       "                                belongs_to_collection  \\\n",
       "0   [{'id': 10194, 'name': 'Toy Story Collection',...   \n",
       "2   [{'id': 119050, 'name': 'Grumpy Old Men Collec...   \n",
       "4   [{'id': 96871, 'name': 'Father of the Bride Co...   \n",
       "9   [{'id': 645, 'name': 'James Bond Collection', ...   \n",
       "12  [{'id': 117693, 'name': 'Balto Collection', 'p...   \n",
       "\n",
       "                                               genres     id  \\\n",
       "0   [{'id': 16, 'name': 'Animation'}, {'id': 35, '...    862   \n",
       "2   [{'id': 10749, 'name': 'Romance'}, {'id': 35, ...  15602   \n",
       "4                      [{'id': 35, 'name': 'Comedy'}]  11862   \n",
       "9   [{'id': 12, 'name': 'Adventure'}, {'id': 28, '...    710   \n",
       "12  [{'id': 10751, 'name': 'Family'}, {'id': 16, '...  21032   \n",
       "\n",
       "                 original_title  \\\n",
       "0                     Toy Story   \n",
       "2              Grumpier Old Men   \n",
       "4   Father of the Bride Part II   \n",
       "9                     GoldenEye   \n",
       "12                        Balto   \n",
       "\n",
       "                                             overview  \\\n",
       "0   Led by Woody, Andy's toys live happily in his ...   \n",
       "2   A family wedding reignites the ancient feud be...   \n",
       "4   Just when George Banks has recovered from his ...   \n",
       "9   James Bond must unmask the mysterious head of ...   \n",
       "12  An outcast half-wolf risks his life to prevent...   \n",
       "\n",
       "                                                 cast  \\\n",
       "0   [{'cast_id': 14, 'character': 'Woody (voice)',...   \n",
       "2   [{'cast_id': 2, 'character': 'Max Goldman', 'c...   \n",
       "4   [{'cast_id': 1, 'character': 'George Banks', '...   \n",
       "9   [{'cast_id': 1, 'character': 'James Bond', 'cr...   \n",
       "12  [{'cast_id': 1, 'character': 'Balto (voice)', ...   \n",
       "\n",
       "                                                 crew  \n",
       "0   [{'credit_id': '52fe4284c3a36847f8024f49', 'de...  \n",
       "2   [{'credit_id': '52fe466a9251416c75077a89', 'de...  \n",
       "4   [{'credit_id': '52fe44959251416c75039ed7', 'de...  \n",
       "9   [{'credit_id': '52fe426ec3a36847f801e14b', 'de...  \n",
       "12  [{'credit_id': '593f24b9c3a3680369002371', 'de...  "
      ]
     },
     "execution_count": 172,
     "metadata": {},
     "output_type": "execute_result"
    }
   ],
   "source": [
    "movies.head(5)"
   ]
  },
  {
   "cell_type": "code",
   "execution_count": 173,
   "id": "6b0df5c8",
   "metadata": {},
   "outputs": [
    {
     "data": {
      "text/plain": [
       "(4441, 7)"
      ]
     },
     "execution_count": 173,
     "metadata": {},
     "output_type": "execute_result"
    }
   ],
   "source": [
    "movies.shape"
   ]
  },
  {
   "cell_type": "code",
   "execution_count": 174,
   "id": "25c02ef7",
   "metadata": {},
   "outputs": [
    {
     "data": {
      "text/plain": [
       "\"[{'id': 16, 'name': 'Animation'}, {'id': 35, 'name': 'Comedy'}, {'id': 10751, 'name': 'Family'}]\""
      ]
     },
     "execution_count": 174,
     "metadata": {},
     "output_type": "execute_result"
    }
   ],
   "source": [
    "movies.iloc[0].genres"
   ]
  },
  {
   "cell_type": "code",
   "execution_count": 175,
   "id": "90c9be38",
   "metadata": {},
   "outputs": [
    {
     "data": {
      "text/plain": [
       "'[{\\'credit_id\\': \\'52fe4284c3a36847f8024f49\\', \\'department\\': \\'Directing\\', \\'gender\\': 2, \\'id\\': 7879, \\'job\\': \\'Director\\', \\'name\\': \\'John Lasseter\\', \\'profile_path\\': \\'/7EdqiNbr4FRjIhKHyPPdFfEEEFG.jpg\\'}, {\\'credit_id\\': \\'52fe4284c3a36847f8024f4f\\', \\'department\\': \\'Writing\\', \\'gender\\': 2, \\'id\\': 12891, \\'job\\': \\'Screenplay\\', \\'name\\': \\'Joss Whedon\\', \\'profile_path\\': \\'/dTiVsuaTVTeGmvkhcyJvKp2A5kr.jpg\\'}, {\\'credit_id\\': \\'52fe4284c3a36847f8024f55\\', \\'department\\': \\'Writing\\', \\'gender\\': 2, \\'id\\': 7, \\'job\\': \\'Screenplay\\', \\'name\\': \\'Andrew Stanton\\', \\'profile_path\\': \\'/pvQWsu0qc8JFQhMVJkTHuexUAa1.jpg\\'}, {\\'credit_id\\': \\'52fe4284c3a36847f8024f5b\\', \\'department\\': \\'Writing\\', \\'gender\\': 2, \\'id\\': 12892, \\'job\\': \\'Screenplay\\', \\'name\\': \\'Joel Cohen\\', \\'profile_path\\': \\'/dAubAiZcvKFbboWlj7oXOkZnTSu.jpg\\'}, {\\'credit_id\\': \\'52fe4284c3a36847f8024f61\\', \\'department\\': \\'Writing\\', \\'gender\\': 0, \\'id\\': 12893, \\'job\\': \\'Screenplay\\', \\'name\\': \\'Alec Sokolow\\', \\'profile_path\\': \\'/v79vlRYi94BZUQnkkyznbGUZLjT.jpg\\'}, {\\'credit_id\\': \\'52fe4284c3a36847f8024f67\\', \\'department\\': \\'Production\\', \\'gender\\': 1, \\'id\\': 12894, \\'job\\': \\'Producer\\', \\'name\\': \\'Bonnie Arnold\\', \\'profile_path\\': None}, {\\'credit_id\\': \\'52fe4284c3a36847f8024f6d\\', \\'department\\': \\'Production\\', \\'gender\\': 0, \\'id\\': 12895, \\'job\\': \\'Executive Producer\\', \\'name\\': \\'Ed Catmull\\', \\'profile_path\\': None}, {\\'credit_id\\': \\'52fe4284c3a36847f8024f73\\', \\'department\\': \\'Production\\', \\'gender\\': 2, \\'id\\': 12896, \\'job\\': \\'Producer\\', \\'name\\': \\'Ralph Guggenheim\\', \\'profile_path\\': None}, {\\'credit_id\\': \\'52fe4284c3a36847f8024f79\\', \\'department\\': \\'Production\\', \\'gender\\': 2, \\'id\\': 12897, \\'job\\': \\'Executive Producer\\', \\'name\\': \\'Steve Jobs\\', \\'profile_path\\': \\'/mOMP3SwD5qWQSR0ldCIByd3guTV.jpg\\'}, {\\'credit_id\\': \\'52fe4284c3a36847f8024f8b\\', \\'department\\': \\'Editing\\', \\'gender\\': 2, \\'id\\': 8, \\'job\\': \\'Editor\\', \\'name\\': \\'Lee Unkrich\\', \\'profile_path\\': \\'/bdTCCXjgOV3YyaNmLGYGOxFQMOc.jpg\\'}, {\\'credit_id\\': \\'52fe4284c3a36847f8024f91\\', \\'department\\': \\'Art\\', \\'gender\\': 2, \\'id\\': 7883, \\'job\\': \\'Art Direction\\', \\'name\\': \\'Ralph Eggleston\\', \\'profile_path\\': \\'/uUfcGKDsKO1aROMpXRs67Hn6RvR.jpg\\'}, {\\'credit_id\\': \\'598331bf925141421201044b\\', \\'department\\': \\'Editing\\', \\'gender\\': 2, \\'id\\': 1168870, \\'job\\': \\'Editor\\', \\'name\\': \\'Robert Gordon\\', \\'profile_path\\': None}, {\\'credit_id\\': \\'5892168cc3a36809660095f9\\', \\'department\\': \\'Sound\\', \\'gender\\': 0, \\'id\\': 1552883, \\'job\\': \\'Foley Editor\\', \\'name\\': \\'Mary Helen Leasman\\', \\'profile_path\\': None}, {\\'credit_id\\': \\'5531824d9251415289000945\\', \\'department\\': \\'Visual Effects\\', \\'gender\\': 0, \\'id\\': 1453514, \\'job\\': \\'Animation\\', \\'name\\': \\'Kim Blanchette\\', \\'profile_path\\': None}, {\\'credit_id\\': \\'589215969251412dcb009bf6\\', \\'department\\': \\'Sound\\', \\'gender\\': 0, \\'id\\': 1414182, \\'job\\': \\'ADR Editor\\', \\'name\\': \\'Marilyn McCoppen\\', \\'profile_path\\': None}, {\\'credit_id\\': \\'589217099251412dc500a018\\', \\'department\\': \\'Sound\\', \\'gender\\': 2, \\'id\\': 7885, \\'job\\': \\'Orchestrator\\', \\'name\\': \\'Randy Newman\\', \\'profile_path\\': \\'/w0JzfoiM25nrnxYOzosPHRq6mlE.jpg\\'}, {\\'credit_id\\': \\'5693e6b29251417b0e0000e3\\', \\'department\\': \\'Editing\\', \\'gender\\': 0, \\'id\\': 1429549, \\'job\\': \\'Color Timer\\', \\'name\\': \\'Dale E. Grahn\\', \\'profile_path\\': None}, {\\'credit_id\\': \\'572e2522c3a36869e6001a9c\\', \\'department\\': \\'Visual Effects\\', \\'gender\\': 0, \\'id\\': 7949, \\'job\\': \\'CG Painter\\', \\'name\\': \\'Robin Cooper\\', \\'profile_path\\': None}, {\\'credit_id\\': \\'574f12309251415ca1000012\\', \\'department\\': \\'Writing\\', \\'gender\\': 2, \\'id\\': 7879, \\'job\\': \\'Original Story\\', \\'name\\': \\'John Lasseter\\', \\'profile_path\\': \\'/7EdqiNbr4FRjIhKHyPPdFfEEEFG.jpg\\'}, {\\'credit_id\\': \\'574f1240c3a3682e7300001c\\', \\'department\\': \\'Writing\\', \\'gender\\': 2, \\'id\\': 12890, \\'job\\': \\'Original Story\\', \\'name\\': \\'Pete Docter\\', \\'profile_path\\': \\'/r6ngPgnReA3RHmKjmSoVsc6Awjp.jpg\\'}, {\\'credit_id\\': \\'574f12519251415c92000015\\', \\'department\\': \\'Writing\\', \\'gender\\': 0, \\'id\\': 7911, \\'job\\': \\'Original Story\\', \\'name\\': \\'Joe Ranft\\', \\'profile_path\\': \\'/f1BoWC2JbCcfP1e5hKfGsxkHzVU.jpg\\'}, {\\'credit_id\\': \\'574f12cec3a3682e82000022\\', \\'department\\': \\'Crew\\', \\'gender\\': 0, \\'id\\': 1629419, \\'job\\': \\'Post Production Supervisor\\', \\'name\\': \\'Patsy Bouge\\', \\'profile_path\\': None}, {\\'credit_id\\': \\'574f14f19251415ca1000082\\', \\'department\\': \\'Art\\', \\'gender\\': 0, \\'id\\': 7961, \\'job\\': \\'Sculptor\\', \\'name\\': \\'Norm DeCarlo\\', \\'profile_path\\': None}, {\\'credit_id\\': \\'5751ae4bc3a3683772002b7f\\', \\'department\\': \\'Visual Effects\\', \\'gender\\': 2, \\'id\\': 12905, \\'job\\': \\'Animation Director\\', \\'name\\': \\'Ash Brannon\\', \\'profile_path\\': \\'/6ueWgPEEBHvS3De2BHYQnYjRTig.jpg\\'}, {\\'credit_id\\': \\'5891edbe9251412dc5007cd6\\', \\'department\\': \\'Sound\\', \\'gender\\': 2, \\'id\\': 7885, \\'job\\': \\'Music\\', \\'name\\': \\'Randy Newman\\', \\'profile_path\\': \\'/w0JzfoiM25nrnxYOzosPHRq6mlE.jpg\\'}, {\\'credit_id\\': \\'589213d39251412dc8009832\\', \\'department\\': \\'Directing\\', \\'gender\\': 0, \\'id\\': 1748707, \\'job\\': \\'Layout\\', \\'name\\': \\'Roman Figun\\', \\'profile_path\\': None}, {\\'credit_id\\': \\'5892173dc3a3680968009351\\', \\'department\\': \\'Sound\\', \\'gender\\': 2, \\'id\\': 4949, \\'job\\': \\'Orchestrator\\', \\'name\\': \\'Don Davis\\', \\'profile_path\\': None}, {\\'credit_id\\': \\'589217cec3a3686b0a0052ba\\', \\'department\\': \\'Sound\\', \\'gender\\': 0, \\'id\\': 1372885, \\'job\\': \\'Music Editor\\', \\'name\\': \\'James Flamberg\\', \\'profile_path\\': None}, {\\'credit_id\\': \\'58921831c3a3686348004a64\\', \\'department\\': \\'Editing\\', \\'gender\\': 0, \\'id\\': 1739962, \\'job\\': \\'Negative Cutter\\', \\'name\\': \\'Mary Beth Smith\\', \\'profile_path\\': None}, {\\'credit_id\\': \\'58921838c3a36809700096c0\\', \\'department\\': \\'Editing\\', \\'gender\\': 0, \\'id\\': 1748513, \\'job\\': \\'Negative Cutter\\', \\'name\\': \\'Rick Mackay\\', \\'profile_path\\': None}, {\\'credit_id\\': \\'589218429251412dd1009d1b\\', \\'department\\': \\'Art\\', \\'gender\\': 0, \\'id\\': 1458006, \\'job\\': \\'Title Designer\\', \\'name\\': \\'Susan Bradley\\', \\'profile_path\\': None}, {\\'credit_id\\': \\'5891ed99c3a3680966007670\\', \\'department\\': \\'Crew\\', \\'gender\\': 0, \\'id\\': 1748557, \\'job\\': \\'Supervising Technical Director\\', \\'name\\': \\'William Reeves\\', \\'profile_path\\': None}, {\\'credit_id\\': \\'5891edcec3a3686b0a002eb2\\', \\'department\\': \\'Sound\\', \\'gender\\': 2, \\'id\\': 7885, \\'job\\': \\'Songs\\', \\'name\\': \\'Randy Newman\\', \\'profile_path\\': \\'/w0JzfoiM25nrnxYOzosPHRq6mlE.jpg\\'}, {\\'credit_id\\': \\'5891edf9c3a36809700075e6\\', \\'department\\': \\'Writing\\', \\'gender\\': 2, \\'id\\': 7, \\'job\\': \\'Original Story\\', \\'name\\': \\'Andrew Stanton\\', \\'profile_path\\': \\'/pvQWsu0qc8JFQhMVJkTHuexUAa1.jpg\\'}, {\\'credit_id\\': \\'58920f0b9251412dd7009104\\', \\'department\\': \\'Crew\\', \\'gender\\': 2, \\'id\\': 12890, \\'job\\': \\'Supervising Animator\\', \\'name\\': \\'Pete Docter\\', \\'profile_path\\': \\'/r6ngPgnReA3RHmKjmSoVsc6Awjp.jpg\\'}, {\\'credit_id\\': \\'58920f1fc3a3680977009021\\', \\'department\\': \\'Sound\\', \\'gender\\': 2, \\'id\\': 2216, \\'job\\': \\'Sound Designer\\', \\'name\\': \\'Gary Rydstrom\\', \\'profile_path\\': \\'/jZpr1nVfO7lldWI0YtmP1FGw7Rj.jpg\\'}, {\\'credit_id\\': \\'58920f389251412dd700912d\\', \\'department\\': \\'Production\\', \\'gender\\': 0, \\'id\\': 12909, \\'job\\': \\'Production Supervisor\\', \\'name\\': \\'Karen Robert Jackson\\', \\'profile_path\\': None}, {\\'credit_id\\': \\'58920fbd9251412dcb00969c\\', \\'department\\': \\'Crew\\', \\'gender\\': 0, \\'id\\': 953331, \\'job\\': \\'Executive Music Producer\\', \\'name\\': \\'Chris Montan\\', \\'profile_path\\': None}, {\\'credit_id\\': \\'589210069251412dd7009219\\', \\'department\\': \\'Visual Effects\\', \\'gender\\': 0, \\'id\\': 7893, \\'job\\': \\'Animation Director\\', \\'name\\': \\'Rich Quade\\', \\'profile_path\\': None}, {\\'credit_id\\': \\'589210329251412dcd00943b\\', \\'department\\': \\'Visual Effects\\', \\'gender\\': 0, \\'id\\': 8025, \\'job\\': \\'Animation\\', \\'name\\': \\'Michael Berenstein\\', \\'profile_path\\': None}, {\\'credit_id\\': \\'5892103bc3a368096a009180\\', \\'department\\': \\'Visual Effects\\', \\'gender\\': 0, \\'id\\': 78009, \\'job\\': \\'Animation\\', \\'name\\': \\'Colin Brady\\', \\'profile_path\\': None}, {\\'credit_id\\': \\'5892105dc3a3680968008db2\\', \\'department\\': \\'Visual Effects\\', \\'gender\\': 0, \\'id\\': 1748682, \\'job\\': \\'Animation\\', \\'name\\': \\'Davey Crockett Feiten\\', \\'profile_path\\': None}, {\\'credit_id\\': \\'589210669251412dcd009466\\', \\'department\\': \\'Visual Effects\\', \\'gender\\': 0, \\'id\\': 1454030, \\'job\\': \\'Animation\\', \\'name\\': \\'Angie Glocka\\', \\'profile_path\\': None}, {\\'credit_id\\': \\'5892107c9251412dd1009613\\', \\'department\\': \\'Visual Effects\\', \\'gender\\': 0, \\'id\\': 1748683, \\'job\\': \\'Animation\\', \\'name\\': \\'Rex Grignon\\', \\'profile_path\\': None}, {\\'credit_id\\': \\'5892108ac3a3680973008d3f\\', \\'department\\': \\'Visual Effects\\', \\'gender\\': 0, \\'id\\': 1748684, \\'job\\': \\'Animation\\', \\'name\\': \\'Tom K. Gurney\\', \\'profile_path\\': None}, {\\'credit_id\\': \\'58921093c3a3686348004477\\', \\'department\\': \\'Visual Effects\\', \\'gender\\': 2, \\'id\\': 8029, \\'job\\': \\'Animation\\', \\'name\\': \\'Jimmy Hayward\\', \\'profile_path\\': \\'/lTDRpudEY7BDwTefXbXzMlmb0ui.jpg\\'}, {\\'credit_id\\': \\'5892109b9251412dcd0094b0\\', \\'department\\': \\'Visual Effects\\', \\'gender\\': 0, \\'id\\': 1426773, \\'job\\': \\'Animation\\', \\'name\\': \\'Hal T. Hickel\\', \\'profile_path\\': None}, {\\'credit_id\\': \\'589210a29251412dc5009a29\\', \\'department\\': \\'Visual Effects\\', \\'gender\\': 0, \\'id\\': 8035, \\'job\\': \\'Animation\\', \\'name\\': \\'Karen Kiser\\', \\'profile_path\\': None}, {\\'credit_id\\': \\'589210ccc3a3680977009191\\', \\'department\\': \\'Visual Effects\\', \\'gender\\': 0, \\'id\\': 1748688, \\'job\\': \\'Animation\\', \\'name\\': \\'Anthony B. LaMolinara\\', \\'profile_path\\': None}, {\\'credit_id\\': \\'589210d7c3a3686b0a004c1f\\', \\'department\\': \\'Visual Effects\\', \\'gender\\': 0, \\'id\\': 587314, \\'job\\': \\'Animation\\', \\'name\\': \\'Guionne Leroy\\', \\'profile_path\\': None}, {\\'credit_id\\': \\'589210e1c3a36809770091a7\\', \\'department\\': \\'Visual Effects\\', \\'gender\\': 2, \\'id\\': 7918, \\'job\\': \\'Animation\\', \\'name\\': \\'Bud Luckey\\', \\'profile_path\\': \\'/pcCh7G19FKMNijmPQg1PMH1btic.jpg\\'}, {\\'credit_id\\': \\'589210ee9251412dc200978a\\', \\'department\\': \\'Visual Effects\\', \\'gender\\': 0, \\'id\\': 1748689, \\'job\\': \\'Animation\\', \\'name\\': \\'Les Major\\', \\'profile_path\\': None}, {\\'credit_id\\': \\'589210fa9251412dc8009595\\', \\'department\\': \\'Visual Effects\\', \\'gender\\': 2, \\'id\\': 7892, \\'job\\': \\'Animation\\', \\'name\\': \\'Glenn McQueen\\', \\'profile_path\\': None}, {\\'credit_id\\': \\'589211029251412dc8009598\\', \\'department\\': \\'Visual Effects\\', \\'gender\\': 0, \\'id\\': 555795, \\'job\\': \\'Animation\\', \\'name\\': \\'Mark Oftedal\\', \\'profile_path\\': None}, {\\'credit_id\\': \\'5892110b9251412dc800959d\\', \\'department\\': \\'Visual Effects\\', \\'gender\\': 2, \\'id\\': 7882, \\'job\\': \\'Animation\\', \\'name\\': \\'Jeff Pidgeon\\', \\'profile_path\\': \\'/yLddkg5HcgbJg00cS13GVBnP0HY.jpg\\'}, {\\'credit_id\\': \\'58921113c3a36863480044e4\\', \\'department\\': \\'Visual Effects\\', \\'gender\\': 0, \\'id\\': 8017, \\'job\\': \\'Animation\\', \\'name\\': \\'Jeff Pratt\\', \\'profile_path\\': None}, {\\'credit_id\\': \\'5892111c9251412dcb0097e9\\', \\'department\\': \\'Visual Effects\\', \\'gender\\': 0, \\'id\\': 1184140, \\'job\\': \\'Animation\\', \\'name\\': \\'Steve Rabatich\\', \\'profile_path\\': None}, {\\'credit_id\\': \\'58921123c3a36809700090f6\\', \\'department\\': \\'Visual Effects\\', \\'gender\\': 0, \\'id\\': 8049, \\'job\\': \\'Animation\\', \\'name\\': \\'Roger Rose\\', \\'profile_path\\': None}, {\\'credit_id\\': \\'5892112b9251412dcb0097fb\\', \\'department\\': \\'Visual Effects\\', \\'gender\\': 0, \\'id\\': 1509559, \\'job\\': \\'Animation\\', \\'name\\': \\'Steve Segal\\', \\'profile_path\\': None}, {\\'credit_id\\': \\'589211349251412dc80095c3\\', \\'department\\': \\'Visual Effects\\', \\'gender\\': 0, \\'id\\': 1748691, \\'job\\': \\'Animation\\', \\'name\\': \\'Doug Sheppeck\\', \\'profile_path\\': None}, {\\'credit_id\\': \\'5892113cc3a3680970009106\\', \\'department\\': \\'Visual Effects\\', \\'gender\\': 0, \\'id\\': 8050, \\'job\\': \\'Animation\\', \\'name\\': \\'Alan Sperling\\', \\'profile_path\\': None}, {\\'credit_id\\': \\'58921148c3a3686b0a004c99\\', \\'department\\': \\'Visual Effects\\', \\'gender\\': 0, \\'id\\': 8010, \\'job\\': \\'Animation\\', \\'name\\': \\'Doug Sweetland\\', \\'profile_path\\': None}, {\\'credit_id\\': \\'58921150c3a3680966009125\\', \\'department\\': \\'Visual Effects\\', \\'gender\\': 0, \\'id\\': 8044, \\'job\\': \\'Animation\\', \\'name\\': \\'David Tart\\', \\'profile_path\\': None}, {\\'credit_id\\': \\'589211629251412dc5009b00\\', \\'department\\': \\'Visual Effects\\', \\'gender\\': 0, \\'id\\': 1454034, \\'job\\': \\'Animation\\', \\'name\\': \\'Ken Willard\\', \\'profile_path\\': None}, {\\'credit_id\\': \\'589211c1c3a3686b0a004d28\\', \\'department\\': \\'Visual Effects\\', \\'gender\\': 0, \\'id\\': 7887, \\'job\\': \\'Visual Effects Supervisor\\', \\'name\\': \\'Thomas Porter\\', \\'profile_path\\': None}, {\\'credit_id\\': \\'589211d4c3a3680968008ed9\\', \\'department\\': \\'Visual Effects\\', \\'gender\\': 0, \\'id\\': 1406878, \\'job\\': \\'Visual Effects\\', \\'name\\': \\'Mark Thomas Henne\\', \\'profile_path\\': None}, {\\'credit_id\\': \\'589211f59251412dd4008e65\\', \\'department\\': \\'Visual Effects\\', \\'gender\\': 0, \\'id\\': 1748698, \\'job\\': \\'Visual Effects\\', \\'name\\': \\'Oren Jacob\\', \\'profile_path\\': None}, {\\'credit_id\\': \\'58921242c3a368096a00939b\\', \\'department\\': \\'Visual Effects\\', \\'gender\\': 0, \\'id\\': 1748699, \\'job\\': \\'Visual Effects\\', \\'name\\': \\'Darwyn Peachey\\', \\'profile_path\\': None}, {\\'credit_id\\': \\'5892124b9251412dc5009bd2\\', \\'department\\': \\'Visual Effects\\', \\'gender\\': 0, \\'id\\': 1748701, \\'job\\': \\'Visual Effects\\', \\'name\\': \\'Mitch Prater\\', \\'profile_path\\': None}, {\\'credit_id\\': \\'58921264c3a3686b0a004dbf\\', \\'department\\': \\'Visual Effects\\', \\'gender\\': 0, \\'id\\': 1748703, \\'job\\': \\'Visual Effects\\', \\'name\\': \\'Brian M. Rosen\\', \\'profile_path\\': None}, {\\'credit_id\\': \\'589212709251412dcd009676\\', \\'department\\': \\'Lighting\\', \\'gender\\': 1, \\'id\\': 12912, \\'job\\': \\'Lighting Supervisor\\', \\'name\\': \\'Sharon Calahan\\', \\'profile_path\\': None}, {\\'credit_id\\': \\'5892127fc3a3686b0a004de5\\', \\'department\\': \\'Lighting\\', \\'gender\\': 0, \\'id\\': 7899, \\'job\\': \\'Lighting Supervisor\\', \\'name\\': \\'Galyn Susman\\', \\'profile_path\\': None}, {\\'credit_id\\': \\'589212cdc3a3680970009268\\', \\'department\\': \\'Visual Effects\\', \\'gender\\': 0, \\'id\\': 12915, \\'job\\': \\'CG Painter\\', \\'name\\': \\'William Cone\\', \\'profile_path\\': None}, {\\'credit_id\\': \\'5892130f9251412dc8009791\\', \\'department\\': \\'Art\\', \\'gender\\': 0, \\'id\\': 1748705, \\'job\\': \\'Sculptor\\', \\'name\\': \\'Shelley Daniels Lekven\\', \\'profile_path\\': None}, {\\'credit_id\\': \\'5892131c9251412dd4008f4c\\', \\'department\\': \\'Visual Effects\\', \\'gender\\': 2, \\'id\\': 7889, \\'job\\': \\'Character Designer\\', \\'name\\': \\'Bob Pauley\\', \\'profile_path\\': None}, {\\'credit_id\\': \\'589213249251412dd100987b\\', \\'department\\': \\'Visual Effects\\', \\'gender\\': 2, \\'id\\': 7918, \\'job\\': \\'Character Designer\\', \\'name\\': \\'Bud Luckey\\', \\'profile_path\\': \\'/pcCh7G19FKMNijmPQg1PMH1btic.jpg\\'}, {\\'credit_id\\': \\'5892132b9251412dc80097b1\\', \\'department\\': \\'Visual Effects\\', \\'gender\\': 2, \\'id\\': 7, \\'job\\': \\'Character Designer\\', \\'name\\': \\'Andrew Stanton\\', \\'profile_path\\': \\'/pvQWsu0qc8JFQhMVJkTHuexUAa1.jpg\\'}, {\\'credit_id\\': \\'58921332c3a368634800467b\\', \\'department\\': \\'Visual Effects\\', \\'gender\\': 0, \\'id\\': 12915, \\'job\\': \\'Character Designer\\', \\'name\\': \\'William Cone\\', \\'profile_path\\': None}, {\\'credit_id\\': \\'5892135f9251412dd4008f90\\', \\'department\\': \\'Visual Effects\\', \\'gender\\': 0, \\'id\\': 1748706, \\'job\\': \\'Character Designer\\', \\'name\\': \\'Steve Johnson\\', \\'profile_path\\': None}, {\\'credit_id\\': \\'58921384c3a3680973008fd4\\', \\'department\\': \\'Visual Effects\\', \\'gender\\': 0, \\'id\\': 1176752, \\'job\\': \\'Character Designer\\', \\'name\\': \\'Dan Haskett\\', \\'profile_path\\': None}, {\\'credit_id\\': \\'5892138e9251412dc20099fc\\', \\'department\\': \\'Visual Effects\\', \\'gender\\': 0, \\'id\\': 1088034, \\'job\\': \\'Character Designer\\', \\'name\\': \\'Tom Holloway\\', \\'profile_path\\': \\'/a0r0T2usTBpgMI5aZbRBDW1fTl8.jpg\\'}, {\\'credit_id\\': \\'58921395c3a368097700942f\\', \\'department\\': \\'Visual Effects\\', \\'gender\\': 0, \\'id\\': 1447465, \\'job\\': \\'Character Designer\\', \\'name\\': \\'Jean Gillmore\\', \\'profile_path\\': None}, {\\'credit_id\\': \\'589213e2c3a3680973009026\\', \\'department\\': \\'Directing\\', \\'gender\\': 0, \\'id\\': 1748709, \\'job\\': \\'Layout\\', \\'name\\': \\'Desirée Mourad\\', \\'profile_path\\': None}, {\\'credit_id\\': \\'589214099251412dc5009d57\\', \\'department\\': \\'Art\\', \\'gender\\': 0, \\'id\\': 1748710, \\'job\\': \\'Set Dresser\\', \\'name\\': \"Kelly O\\'Connell\", \\'profile_path\\': None}, {\\'credit_id\\': \\'58921411c3a3686b0a004f70\\', \\'department\\': \\'Art\\', \\'gender\\': 0, \\'id\\': 1443471, \\'job\\': \\'Set Dresser\\', \\'name\\': \\'Sonoko Konishi\\', \\'profile_path\\': None}, {\\'credit_id\\': \\'58921434c3a368096a00956e\\', \\'department\\': \\'Art\\', \\'gender\\': 0, \\'id\\': 1748711, \\'job\\': \\'Set Dresser\\', \\'name\\': \\'Ann M. Rockwell\\', \\'profile_path\\': None}, {\\'credit_id\\': \\'5892144ac3a36809680090de\\', \\'department\\': \\'Editing\\', \\'gender\\': 0, \\'id\\': 1748712, \\'job\\': \\'Editorial Manager\\', \\'name\\': \\'Julie M. McDonald\\', \\'profile_path\\': None}, {\\'credit_id\\': \\'58921479c3a368096800910f\\', \\'department\\': \\'Editing\\', \\'gender\\': 0, \\'id\\': 1589729, \\'job\\': \\'Assistant Editor\\', \\'name\\': \\'Robin Lee\\', \\'profile_path\\': None}, {\\'credit_id\\': \\'5892148b9251412dd10099cc\\', \\'department\\': \\'Editing\\', \\'gender\\': 0, \\'id\\': 1748716, \\'job\\': \\'Assistant Editor\\', \\'name\\': \\'Tom Freeman\\', \\'profile_path\\': None}, {\\'credit_id\\': \\'589214959251412dcb009b1f\\', \\'department\\': \\'Editing\\', \\'gender\\': 0, \\'id\\': 1748717, \\'job\\': \\'Assistant Editor\\', \\'name\\': \\'Ada Cochavi\\', \\'profile_path\\': None}, {\\'credit_id\\': \\'5892149ec3a3686348004798\\', \\'department\\': \\'Editing\\', \\'gender\\': 0, \\'id\\': 1336438, \\'job\\': \\'Assistant Editor\\', \\'name\\': \\'Dana Mulligan\\', \\'profile_path\\': None}, {\\'credit_id\\': \\'589214adc3a368096a0095db\\', \\'department\\': \\'Editing\\', \\'gender\\': 0, \\'id\\': 1748718, \\'job\\': \\'Editorial Coordinator\\', \\'name\\': \\'Deirdre Morrison\\', \\'profile_path\\': None}, {\\'credit_id\\': \\'589214c7c3a368097700952b\\', \\'department\\': \\'Production\\', \\'gender\\': 0, \\'id\\': 1748719, \\'job\\': \\'Production Coordinator\\', \\'name\\': \\'Lori Lombardo\\', \\'profile_path\\': None}, {\\'credit_id\\': \\'589214cec3a368096a009603\\', \\'department\\': \\'Production\\', \\'gender\\': 0, \\'id\\': 1748720, \\'job\\': \\'Production Coordinator\\', \\'name\\': \\'Ellen Devine\\', \\'profile_path\\': None}, {\\'credit_id\\': \\'589214e39251412dc8009904\\', \\'department\\': \\'Crew\\', \\'gender\\': 0, \\'id\\': 1468014, \\'job\\': \\'Unit Publicist\\', \\'name\\': \\'Lauren Beth Strogoff\\', \\'profile_path\\': None}, {\\'credit_id\\': \\'58921544c3a3686b0a00507d\\', \\'department\\': \\'Sound\\', \\'gender\\': 2, \\'id\\': 2216, \\'job\\': \\'Sound Re-Recording Mixer\\', \\'name\\': \\'Gary Rydstrom\\', \\'profile_path\\': \\'/jZpr1nVfO7lldWI0YtmP1FGw7Rj.jpg\\'}, {\\'credit_id\\': \\'5892154c9251412dd1009a56\\', \\'department\\': \\'Sound\\', \\'gender\\': 0, \\'id\\': 1425978, \\'job\\': \\'Sound Re-Recording Mixer\\', \\'name\\': \\'Gary Summers\\', \\'profile_path\\': None}, {\\'credit_id\\': \\'58921555c3a36809680091bd\\', \\'department\\': \\'Sound\\', \\'gender\\': 2, \\'id\\': 8276, \\'job\\': \\'Supervising Sound Editor\\', \\'name\\': \\'Tim Holland\\', \\'profile_path\\': None}, {\\'credit_id\\': \\'589215c39251412dcb009c12\\', \\'department\\': \\'Sound\\', \\'gender\\': 0, \\'id\\': 7069, \\'job\\': \\'Sound Effects Editor\\', \\'name\\': \\'Pat Jackson\\', \\'profile_path\\': None}, {\\'credit_id\\': \\'58921698c3a368096a009788\\', \\'department\\': \\'Crew\\', \\'gender\\': 2, \\'id\\': 15894, \\'job\\': \\'Sound Design Assistant\\', \\'name\\': \\'Tom Myers\\', \\'profile_path\\': None}, {\\'credit_id\\': \\'589216a89251412dc2009ca4\\', \\'department\\': \\'Sound\\', \\'gender\\': 0, \\'id\\': 1414177, \\'job\\': \\'Assistant Sound Editor\\', \\'name\\': \\'J.R. Grubbs\\', \\'profile_path\\': None}, {\\'credit_id\\': \\'589216c19251412dc2009cb9\\', \\'department\\': \\'Sound\\', \\'gender\\': 1, \\'id\\': 1748724, \\'job\\': \\'Assistant Sound Editor\\', \\'name\\': \\'Susan Sanford\\', \\'profile_path\\': None}, {\\'credit_id\\': \\'589216ccc3a3680973009274\\', \\'department\\': \\'Sound\\', \\'gender\\': 0, \\'id\\': 1748725, \\'job\\': \\'Assistant Sound Editor\\', \\'name\\': \\'Susan Popovic\\', \\'profile_path\\': None}, {\\'credit_id\\': \\'589216d79251412dc8009aa0\\', \\'department\\': \\'Sound\\', \\'gender\\': 0, \\'id\\': 8067, \\'job\\': \\'Assistant Sound Editor\\', \\'name\\': \\'Dan Engstrom\\', \\'profile_path\\': None}, {\\'credit_id\\': \\'589216e49251412dcd009a4f\\', \\'department\\': \\'Production\\', \\'gender\\': 1, \\'id\\': 7902, \\'job\\': \\'Casting Consultant\\', \\'name\\': \\'Ruth Lambert\\', \\'profile_path\\': None}, {\\'credit_id\\': \\'589216f39251412dc2009cf3\\', \\'department\\': \\'Production\\', \\'gender\\': 0, \\'id\\': 84493, \\'job\\': \\'ADR Voice Casting\\', \\'name\\': \\'Mickie McGowan\\', \\'profile_path\\': \\'/k7TjJBfINsg8vLQxJwos6XObAD6.jpg\\'}]'"
      ]
     },
     "execution_count": 175,
     "metadata": {},
     "output_type": "execute_result"
    }
   ],
   "source": [
    "movies.iloc[0].crew"
   ]
  },
  {
   "cell_type": "code",
   "execution_count": 176,
   "id": "5968ed77",
   "metadata": {},
   "outputs": [],
   "source": [
    "import ast"
   ]
  },
  {
   "cell_type": "code",
   "execution_count": 177,
   "id": "45cf43ff",
   "metadata": {},
   "outputs": [],
   "source": [
    "def convert(obj):\n",
    "    L = []\n",
    "    for i in ast.literal_eval(obj):\n",
    "        L.append(i['name'])\n",
    "    return L"
   ]
  },
  {
   "cell_type": "code",
   "execution_count": 178,
   "id": "b66b9bb9",
   "metadata": {},
   "outputs": [],
   "source": [
    "movies['genres']=movies['genres'].apply(convert)"
   ]
  },
  {
   "cell_type": "code",
   "execution_count": 179,
   "id": "2480ce17",
   "metadata": {},
   "outputs": [
    {
     "data": {
      "text/plain": [
       "\"[{'cast_id': 14, 'character': 'Woody (voice)', 'credit_id': '52fe4284c3a36847f8024f95', 'gender': 2, 'id': 31, 'name': 'Tom Hanks', 'order': 0, 'profile_path': '/pQFoyx7rp09CJTAb932F2g8Nlho.jpg'}, {'cast_id': 15, 'character': 'Buzz Lightyear (voice)', 'credit_id': '52fe4284c3a36847f8024f99', 'gender': 2, 'id': 12898, 'name': 'Tim Allen', 'order': 1, 'profile_path': '/uX2xVf6pMmPepxnvFWyBtjexzgY.jpg'}, {'cast_id': 16, 'character': 'Mr. Potato Head (voice)', 'credit_id': '52fe4284c3a36847f8024f9d', 'gender': 2, 'id': 7167, 'name': 'Don Rickles', 'order': 2, 'profile_path': '/h5BcaDMPRVLHLDzbQavec4xfSdt.jpg'}, {'cast_id': 17, 'character': 'Slinky Dog (voice)', 'credit_id': '52fe4284c3a36847f8024fa1', 'gender': 2, 'id': 12899, 'name': 'Jim Varney', 'order': 3, 'profile_path': '/eIo2jVVXYgjDtaHoF19Ll9vtW7h.jpg'}, {'cast_id': 18, 'character': 'Rex (voice)', 'credit_id': '52fe4284c3a36847f8024fa5', 'gender': 2, 'id': 12900, 'name': 'Wallace Shawn', 'order': 4, 'profile_path': '/oGE6JqPP2xH4tNORKNqxbNPYi7u.jpg'}, {'cast_id': 19, 'character': 'Hamm (voice)', 'credit_id': '52fe4284c3a36847f8024fa9', 'gender': 2, 'id': 7907, 'name': 'John Ratzenberger', 'order': 5, 'profile_path': '/yGechiKWL6TJDfVE2KPSJYqdMsY.jpg'}, {'cast_id': 20, 'character': 'Bo Peep (voice)', 'credit_id': '52fe4284c3a36847f8024fad', 'gender': 1, 'id': 8873, 'name': 'Annie Potts', 'order': 6, 'profile_path': '/eryXT84RL41jHSJcMy4kS3u9y6w.jpg'}, {'cast_id': 26, 'character': 'Andy (voice)', 'credit_id': '52fe4284c3a36847f8024fc1', 'gender': 0, 'id': 1116442, 'name': 'John Morris', 'order': 7, 'profile_path': '/vYGyvK4LzeaUCoNSHtsuqJUY15M.jpg'}, {'cast_id': 22, 'character': 'Sid (voice)', 'credit_id': '52fe4284c3a36847f8024fb1', 'gender': 2, 'id': 12901, 'name': 'Erik von Detten', 'order': 8, 'profile_path': '/twnF1ZaJ1FUNUuo6xLXwcxjayBE.jpg'}, {'cast_id': 23, 'character': 'Mrs. Davis (voice)', 'credit_id': '52fe4284c3a36847f8024fb5', 'gender': 1, 'id': 12133, 'name': 'Laurie Metcalf', 'order': 9, 'profile_path': '/unMMIT60eoBM2sN2nyR7EZ2BvvD.jpg'}, {'cast_id': 24, 'character': 'Sergeant (voice)', 'credit_id': '52fe4284c3a36847f8024fb9', 'gender': 2, 'id': 8655, 'name': 'R. Lee Ermey', 'order': 10, 'profile_path': '/r8GBqFBjypLUP9VVqDqfZ7wYbSs.jpg'}, {'cast_id': 25, 'character': 'Hannah (voice)', 'credit_id': '52fe4284c3a36847f8024fbd', 'gender': 1, 'id': 12903, 'name': 'Sarah Freeman', 'order': 11, 'profile_path': None}, {'cast_id': 27, 'character': 'TV Announcer (voice)', 'credit_id': '52fe4284c3a36847f8024fc5', 'gender': 2, 'id': 37221, 'name': 'Penn Jillette', 'order': 12, 'profile_path': '/zmAaXUdx12NRsssgHbk1T31j2x9.jpg'}]\""
      ]
     },
     "execution_count": 179,
     "metadata": {},
     "output_type": "execute_result"
    }
   ],
   "source": [
    "movies.iloc[0].cast"
   ]
  },
  {
   "cell_type": "code",
   "execution_count": 180,
   "id": "33b29546",
   "metadata": {},
   "outputs": [],
   "source": [
    "movies['cast']=movies['cast'].apply(convert)"
   ]
  },
  {
   "cell_type": "code",
   "execution_count": 181,
   "id": "0b65f909",
   "metadata": {},
   "outputs": [
    {
     "data": {
      "text/html": [
       "<div>\n",
       "<style scoped>\n",
       "    .dataframe tbody tr th:only-of-type {\n",
       "        vertical-align: middle;\n",
       "    }\n",
       "\n",
       "    .dataframe tbody tr th {\n",
       "        vertical-align: top;\n",
       "    }\n",
       "\n",
       "    .dataframe thead th {\n",
       "        text-align: right;\n",
       "    }\n",
       "</style>\n",
       "<table border=\"1\" class=\"dataframe\">\n",
       "  <thead>\n",
       "    <tr style=\"text-align: right;\">\n",
       "      <th></th>\n",
       "      <th>belongs_to_collection</th>\n",
       "      <th>genres</th>\n",
       "      <th>id</th>\n",
       "      <th>original_title</th>\n",
       "      <th>overview</th>\n",
       "      <th>cast</th>\n",
       "      <th>crew</th>\n",
       "    </tr>\n",
       "  </thead>\n",
       "  <tbody>\n",
       "    <tr>\n",
       "      <th>0</th>\n",
       "      <td>[{'id': 10194, 'name': 'Toy Story Collection',...</td>\n",
       "      <td>[Animation, Comedy, Family]</td>\n",
       "      <td>862</td>\n",
       "      <td>Toy Story</td>\n",
       "      <td>Led by Woody, Andy's toys live happily in his ...</td>\n",
       "      <td>[Tom Hanks, Tim Allen, Don Rickles, Jim Varney...</td>\n",
       "      <td>[{'credit_id': '52fe4284c3a36847f8024f49', 'de...</td>\n",
       "    </tr>\n",
       "    <tr>\n",
       "      <th>2</th>\n",
       "      <td>[{'id': 119050, 'name': 'Grumpy Old Men Collec...</td>\n",
       "      <td>[Romance, Comedy]</td>\n",
       "      <td>15602</td>\n",
       "      <td>Grumpier Old Men</td>\n",
       "      <td>A family wedding reignites the ancient feud be...</td>\n",
       "      <td>[Walter Matthau, Jack Lemmon, Ann-Margret, Sop...</td>\n",
       "      <td>[{'credit_id': '52fe466a9251416c75077a89', 'de...</td>\n",
       "    </tr>\n",
       "    <tr>\n",
       "      <th>4</th>\n",
       "      <td>[{'id': 96871, 'name': 'Father of the Bride Co...</td>\n",
       "      <td>[Comedy]</td>\n",
       "      <td>11862</td>\n",
       "      <td>Father of the Bride Part II</td>\n",
       "      <td>Just when George Banks has recovered from his ...</td>\n",
       "      <td>[Steve Martin, Diane Keaton, Martin Short, Kim...</td>\n",
       "      <td>[{'credit_id': '52fe44959251416c75039ed7', 'de...</td>\n",
       "    </tr>\n",
       "    <tr>\n",
       "      <th>9</th>\n",
       "      <td>[{'id': 645, 'name': 'James Bond Collection', ...</td>\n",
       "      <td>[Adventure, Action, Thriller]</td>\n",
       "      <td>710</td>\n",
       "      <td>GoldenEye</td>\n",
       "      <td>James Bond must unmask the mysterious head of ...</td>\n",
       "      <td>[Pierce Brosnan, Sean Bean, Izabella Scorupco,...</td>\n",
       "      <td>[{'credit_id': '52fe426ec3a36847f801e14b', 'de...</td>\n",
       "    </tr>\n",
       "    <tr>\n",
       "      <th>12</th>\n",
       "      <td>[{'id': 117693, 'name': 'Balto Collection', 'p...</td>\n",
       "      <td>[Family, Animation, Adventure]</td>\n",
       "      <td>21032</td>\n",
       "      <td>Balto</td>\n",
       "      <td>An outcast half-wolf risks his life to prevent...</td>\n",
       "      <td>[Kevin Bacon, Bob Hoskins, Bridget Fonda, Jim ...</td>\n",
       "      <td>[{'credit_id': '593f24b9c3a3680369002371', 'de...</td>\n",
       "    </tr>\n",
       "  </tbody>\n",
       "</table>\n",
       "</div>"
      ],
      "text/plain": [
       "                                belongs_to_collection  \\\n",
       "0   [{'id': 10194, 'name': 'Toy Story Collection',...   \n",
       "2   [{'id': 119050, 'name': 'Grumpy Old Men Collec...   \n",
       "4   [{'id': 96871, 'name': 'Father of the Bride Co...   \n",
       "9   [{'id': 645, 'name': 'James Bond Collection', ...   \n",
       "12  [{'id': 117693, 'name': 'Balto Collection', 'p...   \n",
       "\n",
       "                            genres     id               original_title  \\\n",
       "0      [Animation, Comedy, Family]    862                    Toy Story   \n",
       "2                [Romance, Comedy]  15602             Grumpier Old Men   \n",
       "4                         [Comedy]  11862  Father of the Bride Part II   \n",
       "9    [Adventure, Action, Thriller]    710                    GoldenEye   \n",
       "12  [Family, Animation, Adventure]  21032                        Balto   \n",
       "\n",
       "                                             overview  \\\n",
       "0   Led by Woody, Andy's toys live happily in his ...   \n",
       "2   A family wedding reignites the ancient feud be...   \n",
       "4   Just when George Banks has recovered from his ...   \n",
       "9   James Bond must unmask the mysterious head of ...   \n",
       "12  An outcast half-wolf risks his life to prevent...   \n",
       "\n",
       "                                                 cast  \\\n",
       "0   [Tom Hanks, Tim Allen, Don Rickles, Jim Varney...   \n",
       "2   [Walter Matthau, Jack Lemmon, Ann-Margret, Sop...   \n",
       "4   [Steve Martin, Diane Keaton, Martin Short, Kim...   \n",
       "9   [Pierce Brosnan, Sean Bean, Izabella Scorupco,...   \n",
       "12  [Kevin Bacon, Bob Hoskins, Bridget Fonda, Jim ...   \n",
       "\n",
       "                                                 crew  \n",
       "0   [{'credit_id': '52fe4284c3a36847f8024f49', 'de...  \n",
       "2   [{'credit_id': '52fe466a9251416c75077a89', 'de...  \n",
       "4   [{'credit_id': '52fe44959251416c75039ed7', 'de...  \n",
       "9   [{'credit_id': '52fe426ec3a36847f801e14b', 'de...  \n",
       "12  [{'credit_id': '593f24b9c3a3680369002371', 'de...  "
      ]
     },
     "execution_count": 181,
     "metadata": {},
     "output_type": "execute_result"
    }
   ],
   "source": [
    "movies.head()"
   ]
  },
  {
   "cell_type": "code",
   "execution_count": 182,
   "id": "8fd59557",
   "metadata": {},
   "outputs": [
    {
     "data": {
      "text/plain": [
       "'[{\\'credit_id\\': \\'52fe4284c3a36847f8024f49\\', \\'department\\': \\'Directing\\', \\'gender\\': 2, \\'id\\': 7879, \\'job\\': \\'Director\\', \\'name\\': \\'John Lasseter\\', \\'profile_path\\': \\'/7EdqiNbr4FRjIhKHyPPdFfEEEFG.jpg\\'}, {\\'credit_id\\': \\'52fe4284c3a36847f8024f4f\\', \\'department\\': \\'Writing\\', \\'gender\\': 2, \\'id\\': 12891, \\'job\\': \\'Screenplay\\', \\'name\\': \\'Joss Whedon\\', \\'profile_path\\': \\'/dTiVsuaTVTeGmvkhcyJvKp2A5kr.jpg\\'}, {\\'credit_id\\': \\'52fe4284c3a36847f8024f55\\', \\'department\\': \\'Writing\\', \\'gender\\': 2, \\'id\\': 7, \\'job\\': \\'Screenplay\\', \\'name\\': \\'Andrew Stanton\\', \\'profile_path\\': \\'/pvQWsu0qc8JFQhMVJkTHuexUAa1.jpg\\'}, {\\'credit_id\\': \\'52fe4284c3a36847f8024f5b\\', \\'department\\': \\'Writing\\', \\'gender\\': 2, \\'id\\': 12892, \\'job\\': \\'Screenplay\\', \\'name\\': \\'Joel Cohen\\', \\'profile_path\\': \\'/dAubAiZcvKFbboWlj7oXOkZnTSu.jpg\\'}, {\\'credit_id\\': \\'52fe4284c3a36847f8024f61\\', \\'department\\': \\'Writing\\', \\'gender\\': 0, \\'id\\': 12893, \\'job\\': \\'Screenplay\\', \\'name\\': \\'Alec Sokolow\\', \\'profile_path\\': \\'/v79vlRYi94BZUQnkkyznbGUZLjT.jpg\\'}, {\\'credit_id\\': \\'52fe4284c3a36847f8024f67\\', \\'department\\': \\'Production\\', \\'gender\\': 1, \\'id\\': 12894, \\'job\\': \\'Producer\\', \\'name\\': \\'Bonnie Arnold\\', \\'profile_path\\': None}, {\\'credit_id\\': \\'52fe4284c3a36847f8024f6d\\', \\'department\\': \\'Production\\', \\'gender\\': 0, \\'id\\': 12895, \\'job\\': \\'Executive Producer\\', \\'name\\': \\'Ed Catmull\\', \\'profile_path\\': None}, {\\'credit_id\\': \\'52fe4284c3a36847f8024f73\\', \\'department\\': \\'Production\\', \\'gender\\': 2, \\'id\\': 12896, \\'job\\': \\'Producer\\', \\'name\\': \\'Ralph Guggenheim\\', \\'profile_path\\': None}, {\\'credit_id\\': \\'52fe4284c3a36847f8024f79\\', \\'department\\': \\'Production\\', \\'gender\\': 2, \\'id\\': 12897, \\'job\\': \\'Executive Producer\\', \\'name\\': \\'Steve Jobs\\', \\'profile_path\\': \\'/mOMP3SwD5qWQSR0ldCIByd3guTV.jpg\\'}, {\\'credit_id\\': \\'52fe4284c3a36847f8024f8b\\', \\'department\\': \\'Editing\\', \\'gender\\': 2, \\'id\\': 8, \\'job\\': \\'Editor\\', \\'name\\': \\'Lee Unkrich\\', \\'profile_path\\': \\'/bdTCCXjgOV3YyaNmLGYGOxFQMOc.jpg\\'}, {\\'credit_id\\': \\'52fe4284c3a36847f8024f91\\', \\'department\\': \\'Art\\', \\'gender\\': 2, \\'id\\': 7883, \\'job\\': \\'Art Direction\\', \\'name\\': \\'Ralph Eggleston\\', \\'profile_path\\': \\'/uUfcGKDsKO1aROMpXRs67Hn6RvR.jpg\\'}, {\\'credit_id\\': \\'598331bf925141421201044b\\', \\'department\\': \\'Editing\\', \\'gender\\': 2, \\'id\\': 1168870, \\'job\\': \\'Editor\\', \\'name\\': \\'Robert Gordon\\', \\'profile_path\\': None}, {\\'credit_id\\': \\'5892168cc3a36809660095f9\\', \\'department\\': \\'Sound\\', \\'gender\\': 0, \\'id\\': 1552883, \\'job\\': \\'Foley Editor\\', \\'name\\': \\'Mary Helen Leasman\\', \\'profile_path\\': None}, {\\'credit_id\\': \\'5531824d9251415289000945\\', \\'department\\': \\'Visual Effects\\', \\'gender\\': 0, \\'id\\': 1453514, \\'job\\': \\'Animation\\', \\'name\\': \\'Kim Blanchette\\', \\'profile_path\\': None}, {\\'credit_id\\': \\'589215969251412dcb009bf6\\', \\'department\\': \\'Sound\\', \\'gender\\': 0, \\'id\\': 1414182, \\'job\\': \\'ADR Editor\\', \\'name\\': \\'Marilyn McCoppen\\', \\'profile_path\\': None}, {\\'credit_id\\': \\'589217099251412dc500a018\\', \\'department\\': \\'Sound\\', \\'gender\\': 2, \\'id\\': 7885, \\'job\\': \\'Orchestrator\\', \\'name\\': \\'Randy Newman\\', \\'profile_path\\': \\'/w0JzfoiM25nrnxYOzosPHRq6mlE.jpg\\'}, {\\'credit_id\\': \\'5693e6b29251417b0e0000e3\\', \\'department\\': \\'Editing\\', \\'gender\\': 0, \\'id\\': 1429549, \\'job\\': \\'Color Timer\\', \\'name\\': \\'Dale E. Grahn\\', \\'profile_path\\': None}, {\\'credit_id\\': \\'572e2522c3a36869e6001a9c\\', \\'department\\': \\'Visual Effects\\', \\'gender\\': 0, \\'id\\': 7949, \\'job\\': \\'CG Painter\\', \\'name\\': \\'Robin Cooper\\', \\'profile_path\\': None}, {\\'credit_id\\': \\'574f12309251415ca1000012\\', \\'department\\': \\'Writing\\', \\'gender\\': 2, \\'id\\': 7879, \\'job\\': \\'Original Story\\', \\'name\\': \\'John Lasseter\\', \\'profile_path\\': \\'/7EdqiNbr4FRjIhKHyPPdFfEEEFG.jpg\\'}, {\\'credit_id\\': \\'574f1240c3a3682e7300001c\\', \\'department\\': \\'Writing\\', \\'gender\\': 2, \\'id\\': 12890, \\'job\\': \\'Original Story\\', \\'name\\': \\'Pete Docter\\', \\'profile_path\\': \\'/r6ngPgnReA3RHmKjmSoVsc6Awjp.jpg\\'}, {\\'credit_id\\': \\'574f12519251415c92000015\\', \\'department\\': \\'Writing\\', \\'gender\\': 0, \\'id\\': 7911, \\'job\\': \\'Original Story\\', \\'name\\': \\'Joe Ranft\\', \\'profile_path\\': \\'/f1BoWC2JbCcfP1e5hKfGsxkHzVU.jpg\\'}, {\\'credit_id\\': \\'574f12cec3a3682e82000022\\', \\'department\\': \\'Crew\\', \\'gender\\': 0, \\'id\\': 1629419, \\'job\\': \\'Post Production Supervisor\\', \\'name\\': \\'Patsy Bouge\\', \\'profile_path\\': None}, {\\'credit_id\\': \\'574f14f19251415ca1000082\\', \\'department\\': \\'Art\\', \\'gender\\': 0, \\'id\\': 7961, \\'job\\': \\'Sculptor\\', \\'name\\': \\'Norm DeCarlo\\', \\'profile_path\\': None}, {\\'credit_id\\': \\'5751ae4bc3a3683772002b7f\\', \\'department\\': \\'Visual Effects\\', \\'gender\\': 2, \\'id\\': 12905, \\'job\\': \\'Animation Director\\', \\'name\\': \\'Ash Brannon\\', \\'profile_path\\': \\'/6ueWgPEEBHvS3De2BHYQnYjRTig.jpg\\'}, {\\'credit_id\\': \\'5891edbe9251412dc5007cd6\\', \\'department\\': \\'Sound\\', \\'gender\\': 2, \\'id\\': 7885, \\'job\\': \\'Music\\', \\'name\\': \\'Randy Newman\\', \\'profile_path\\': \\'/w0JzfoiM25nrnxYOzosPHRq6mlE.jpg\\'}, {\\'credit_id\\': \\'589213d39251412dc8009832\\', \\'department\\': \\'Directing\\', \\'gender\\': 0, \\'id\\': 1748707, \\'job\\': \\'Layout\\', \\'name\\': \\'Roman Figun\\', \\'profile_path\\': None}, {\\'credit_id\\': \\'5892173dc3a3680968009351\\', \\'department\\': \\'Sound\\', \\'gender\\': 2, \\'id\\': 4949, \\'job\\': \\'Orchestrator\\', \\'name\\': \\'Don Davis\\', \\'profile_path\\': None}, {\\'credit_id\\': \\'589217cec3a3686b0a0052ba\\', \\'department\\': \\'Sound\\', \\'gender\\': 0, \\'id\\': 1372885, \\'job\\': \\'Music Editor\\', \\'name\\': \\'James Flamberg\\', \\'profile_path\\': None}, {\\'credit_id\\': \\'58921831c3a3686348004a64\\', \\'department\\': \\'Editing\\', \\'gender\\': 0, \\'id\\': 1739962, \\'job\\': \\'Negative Cutter\\', \\'name\\': \\'Mary Beth Smith\\', \\'profile_path\\': None}, {\\'credit_id\\': \\'58921838c3a36809700096c0\\', \\'department\\': \\'Editing\\', \\'gender\\': 0, \\'id\\': 1748513, \\'job\\': \\'Negative Cutter\\', \\'name\\': \\'Rick Mackay\\', \\'profile_path\\': None}, {\\'credit_id\\': \\'589218429251412dd1009d1b\\', \\'department\\': \\'Art\\', \\'gender\\': 0, \\'id\\': 1458006, \\'job\\': \\'Title Designer\\', \\'name\\': \\'Susan Bradley\\', \\'profile_path\\': None}, {\\'credit_id\\': \\'5891ed99c3a3680966007670\\', \\'department\\': \\'Crew\\', \\'gender\\': 0, \\'id\\': 1748557, \\'job\\': \\'Supervising Technical Director\\', \\'name\\': \\'William Reeves\\', \\'profile_path\\': None}, {\\'credit_id\\': \\'5891edcec3a3686b0a002eb2\\', \\'department\\': \\'Sound\\', \\'gender\\': 2, \\'id\\': 7885, \\'job\\': \\'Songs\\', \\'name\\': \\'Randy Newman\\', \\'profile_path\\': \\'/w0JzfoiM25nrnxYOzosPHRq6mlE.jpg\\'}, {\\'credit_id\\': \\'5891edf9c3a36809700075e6\\', \\'department\\': \\'Writing\\', \\'gender\\': 2, \\'id\\': 7, \\'job\\': \\'Original Story\\', \\'name\\': \\'Andrew Stanton\\', \\'profile_path\\': \\'/pvQWsu0qc8JFQhMVJkTHuexUAa1.jpg\\'}, {\\'credit_id\\': \\'58920f0b9251412dd7009104\\', \\'department\\': \\'Crew\\', \\'gender\\': 2, \\'id\\': 12890, \\'job\\': \\'Supervising Animator\\', \\'name\\': \\'Pete Docter\\', \\'profile_path\\': \\'/r6ngPgnReA3RHmKjmSoVsc6Awjp.jpg\\'}, {\\'credit_id\\': \\'58920f1fc3a3680977009021\\', \\'department\\': \\'Sound\\', \\'gender\\': 2, \\'id\\': 2216, \\'job\\': \\'Sound Designer\\', \\'name\\': \\'Gary Rydstrom\\', \\'profile_path\\': \\'/jZpr1nVfO7lldWI0YtmP1FGw7Rj.jpg\\'}, {\\'credit_id\\': \\'58920f389251412dd700912d\\', \\'department\\': \\'Production\\', \\'gender\\': 0, \\'id\\': 12909, \\'job\\': \\'Production Supervisor\\', \\'name\\': \\'Karen Robert Jackson\\', \\'profile_path\\': None}, {\\'credit_id\\': \\'58920fbd9251412dcb00969c\\', \\'department\\': \\'Crew\\', \\'gender\\': 0, \\'id\\': 953331, \\'job\\': \\'Executive Music Producer\\', \\'name\\': \\'Chris Montan\\', \\'profile_path\\': None}, {\\'credit_id\\': \\'589210069251412dd7009219\\', \\'department\\': \\'Visual Effects\\', \\'gender\\': 0, \\'id\\': 7893, \\'job\\': \\'Animation Director\\', \\'name\\': \\'Rich Quade\\', \\'profile_path\\': None}, {\\'credit_id\\': \\'589210329251412dcd00943b\\', \\'department\\': \\'Visual Effects\\', \\'gender\\': 0, \\'id\\': 8025, \\'job\\': \\'Animation\\', \\'name\\': \\'Michael Berenstein\\', \\'profile_path\\': None}, {\\'credit_id\\': \\'5892103bc3a368096a009180\\', \\'department\\': \\'Visual Effects\\', \\'gender\\': 0, \\'id\\': 78009, \\'job\\': \\'Animation\\', \\'name\\': \\'Colin Brady\\', \\'profile_path\\': None}, {\\'credit_id\\': \\'5892105dc3a3680968008db2\\', \\'department\\': \\'Visual Effects\\', \\'gender\\': 0, \\'id\\': 1748682, \\'job\\': \\'Animation\\', \\'name\\': \\'Davey Crockett Feiten\\', \\'profile_path\\': None}, {\\'credit_id\\': \\'589210669251412dcd009466\\', \\'department\\': \\'Visual Effects\\', \\'gender\\': 0, \\'id\\': 1454030, \\'job\\': \\'Animation\\', \\'name\\': \\'Angie Glocka\\', \\'profile_path\\': None}, {\\'credit_id\\': \\'5892107c9251412dd1009613\\', \\'department\\': \\'Visual Effects\\', \\'gender\\': 0, \\'id\\': 1748683, \\'job\\': \\'Animation\\', \\'name\\': \\'Rex Grignon\\', \\'profile_path\\': None}, {\\'credit_id\\': \\'5892108ac3a3680973008d3f\\', \\'department\\': \\'Visual Effects\\', \\'gender\\': 0, \\'id\\': 1748684, \\'job\\': \\'Animation\\', \\'name\\': \\'Tom K. Gurney\\', \\'profile_path\\': None}, {\\'credit_id\\': \\'58921093c3a3686348004477\\', \\'department\\': \\'Visual Effects\\', \\'gender\\': 2, \\'id\\': 8029, \\'job\\': \\'Animation\\', \\'name\\': \\'Jimmy Hayward\\', \\'profile_path\\': \\'/lTDRpudEY7BDwTefXbXzMlmb0ui.jpg\\'}, {\\'credit_id\\': \\'5892109b9251412dcd0094b0\\', \\'department\\': \\'Visual Effects\\', \\'gender\\': 0, \\'id\\': 1426773, \\'job\\': \\'Animation\\', \\'name\\': \\'Hal T. Hickel\\', \\'profile_path\\': None}, {\\'credit_id\\': \\'589210a29251412dc5009a29\\', \\'department\\': \\'Visual Effects\\', \\'gender\\': 0, \\'id\\': 8035, \\'job\\': \\'Animation\\', \\'name\\': \\'Karen Kiser\\', \\'profile_path\\': None}, {\\'credit_id\\': \\'589210ccc3a3680977009191\\', \\'department\\': \\'Visual Effects\\', \\'gender\\': 0, \\'id\\': 1748688, \\'job\\': \\'Animation\\', \\'name\\': \\'Anthony B. LaMolinara\\', \\'profile_path\\': None}, {\\'credit_id\\': \\'589210d7c3a3686b0a004c1f\\', \\'department\\': \\'Visual Effects\\', \\'gender\\': 0, \\'id\\': 587314, \\'job\\': \\'Animation\\', \\'name\\': \\'Guionne Leroy\\', \\'profile_path\\': None}, {\\'credit_id\\': \\'589210e1c3a36809770091a7\\', \\'department\\': \\'Visual Effects\\', \\'gender\\': 2, \\'id\\': 7918, \\'job\\': \\'Animation\\', \\'name\\': \\'Bud Luckey\\', \\'profile_path\\': \\'/pcCh7G19FKMNijmPQg1PMH1btic.jpg\\'}, {\\'credit_id\\': \\'589210ee9251412dc200978a\\', \\'department\\': \\'Visual Effects\\', \\'gender\\': 0, \\'id\\': 1748689, \\'job\\': \\'Animation\\', \\'name\\': \\'Les Major\\', \\'profile_path\\': None}, {\\'credit_id\\': \\'589210fa9251412dc8009595\\', \\'department\\': \\'Visual Effects\\', \\'gender\\': 2, \\'id\\': 7892, \\'job\\': \\'Animation\\', \\'name\\': \\'Glenn McQueen\\', \\'profile_path\\': None}, {\\'credit_id\\': \\'589211029251412dc8009598\\', \\'department\\': \\'Visual Effects\\', \\'gender\\': 0, \\'id\\': 555795, \\'job\\': \\'Animation\\', \\'name\\': \\'Mark Oftedal\\', \\'profile_path\\': None}, {\\'credit_id\\': \\'5892110b9251412dc800959d\\', \\'department\\': \\'Visual Effects\\', \\'gender\\': 2, \\'id\\': 7882, \\'job\\': \\'Animation\\', \\'name\\': \\'Jeff Pidgeon\\', \\'profile_path\\': \\'/yLddkg5HcgbJg00cS13GVBnP0HY.jpg\\'}, {\\'credit_id\\': \\'58921113c3a36863480044e4\\', \\'department\\': \\'Visual Effects\\', \\'gender\\': 0, \\'id\\': 8017, \\'job\\': \\'Animation\\', \\'name\\': \\'Jeff Pratt\\', \\'profile_path\\': None}, {\\'credit_id\\': \\'5892111c9251412dcb0097e9\\', \\'department\\': \\'Visual Effects\\', \\'gender\\': 0, \\'id\\': 1184140, \\'job\\': \\'Animation\\', \\'name\\': \\'Steve Rabatich\\', \\'profile_path\\': None}, {\\'credit_id\\': \\'58921123c3a36809700090f6\\', \\'department\\': \\'Visual Effects\\', \\'gender\\': 0, \\'id\\': 8049, \\'job\\': \\'Animation\\', \\'name\\': \\'Roger Rose\\', \\'profile_path\\': None}, {\\'credit_id\\': \\'5892112b9251412dcb0097fb\\', \\'department\\': \\'Visual Effects\\', \\'gender\\': 0, \\'id\\': 1509559, \\'job\\': \\'Animation\\', \\'name\\': \\'Steve Segal\\', \\'profile_path\\': None}, {\\'credit_id\\': \\'589211349251412dc80095c3\\', \\'department\\': \\'Visual Effects\\', \\'gender\\': 0, \\'id\\': 1748691, \\'job\\': \\'Animation\\', \\'name\\': \\'Doug Sheppeck\\', \\'profile_path\\': None}, {\\'credit_id\\': \\'5892113cc3a3680970009106\\', \\'department\\': \\'Visual Effects\\', \\'gender\\': 0, \\'id\\': 8050, \\'job\\': \\'Animation\\', \\'name\\': \\'Alan Sperling\\', \\'profile_path\\': None}, {\\'credit_id\\': \\'58921148c3a3686b0a004c99\\', \\'department\\': \\'Visual Effects\\', \\'gender\\': 0, \\'id\\': 8010, \\'job\\': \\'Animation\\', \\'name\\': \\'Doug Sweetland\\', \\'profile_path\\': None}, {\\'credit_id\\': \\'58921150c3a3680966009125\\', \\'department\\': \\'Visual Effects\\', \\'gender\\': 0, \\'id\\': 8044, \\'job\\': \\'Animation\\', \\'name\\': \\'David Tart\\', \\'profile_path\\': None}, {\\'credit_id\\': \\'589211629251412dc5009b00\\', \\'department\\': \\'Visual Effects\\', \\'gender\\': 0, \\'id\\': 1454034, \\'job\\': \\'Animation\\', \\'name\\': \\'Ken Willard\\', \\'profile_path\\': None}, {\\'credit_id\\': \\'589211c1c3a3686b0a004d28\\', \\'department\\': \\'Visual Effects\\', \\'gender\\': 0, \\'id\\': 7887, \\'job\\': \\'Visual Effects Supervisor\\', \\'name\\': \\'Thomas Porter\\', \\'profile_path\\': None}, {\\'credit_id\\': \\'589211d4c3a3680968008ed9\\', \\'department\\': \\'Visual Effects\\', \\'gender\\': 0, \\'id\\': 1406878, \\'job\\': \\'Visual Effects\\', \\'name\\': \\'Mark Thomas Henne\\', \\'profile_path\\': None}, {\\'credit_id\\': \\'589211f59251412dd4008e65\\', \\'department\\': \\'Visual Effects\\', \\'gender\\': 0, \\'id\\': 1748698, \\'job\\': \\'Visual Effects\\', \\'name\\': \\'Oren Jacob\\', \\'profile_path\\': None}, {\\'credit_id\\': \\'58921242c3a368096a00939b\\', \\'department\\': \\'Visual Effects\\', \\'gender\\': 0, \\'id\\': 1748699, \\'job\\': \\'Visual Effects\\', \\'name\\': \\'Darwyn Peachey\\', \\'profile_path\\': None}, {\\'credit_id\\': \\'5892124b9251412dc5009bd2\\', \\'department\\': \\'Visual Effects\\', \\'gender\\': 0, \\'id\\': 1748701, \\'job\\': \\'Visual Effects\\', \\'name\\': \\'Mitch Prater\\', \\'profile_path\\': None}, {\\'credit_id\\': \\'58921264c3a3686b0a004dbf\\', \\'department\\': \\'Visual Effects\\', \\'gender\\': 0, \\'id\\': 1748703, \\'job\\': \\'Visual Effects\\', \\'name\\': \\'Brian M. Rosen\\', \\'profile_path\\': None}, {\\'credit_id\\': \\'589212709251412dcd009676\\', \\'department\\': \\'Lighting\\', \\'gender\\': 1, \\'id\\': 12912, \\'job\\': \\'Lighting Supervisor\\', \\'name\\': \\'Sharon Calahan\\', \\'profile_path\\': None}, {\\'credit_id\\': \\'5892127fc3a3686b0a004de5\\', \\'department\\': \\'Lighting\\', \\'gender\\': 0, \\'id\\': 7899, \\'job\\': \\'Lighting Supervisor\\', \\'name\\': \\'Galyn Susman\\', \\'profile_path\\': None}, {\\'credit_id\\': \\'589212cdc3a3680970009268\\', \\'department\\': \\'Visual Effects\\', \\'gender\\': 0, \\'id\\': 12915, \\'job\\': \\'CG Painter\\', \\'name\\': \\'William Cone\\', \\'profile_path\\': None}, {\\'credit_id\\': \\'5892130f9251412dc8009791\\', \\'department\\': \\'Art\\', \\'gender\\': 0, \\'id\\': 1748705, \\'job\\': \\'Sculptor\\', \\'name\\': \\'Shelley Daniels Lekven\\', \\'profile_path\\': None}, {\\'credit_id\\': \\'5892131c9251412dd4008f4c\\', \\'department\\': \\'Visual Effects\\', \\'gender\\': 2, \\'id\\': 7889, \\'job\\': \\'Character Designer\\', \\'name\\': \\'Bob Pauley\\', \\'profile_path\\': None}, {\\'credit_id\\': \\'589213249251412dd100987b\\', \\'department\\': \\'Visual Effects\\', \\'gender\\': 2, \\'id\\': 7918, \\'job\\': \\'Character Designer\\', \\'name\\': \\'Bud Luckey\\', \\'profile_path\\': \\'/pcCh7G19FKMNijmPQg1PMH1btic.jpg\\'}, {\\'credit_id\\': \\'5892132b9251412dc80097b1\\', \\'department\\': \\'Visual Effects\\', \\'gender\\': 2, \\'id\\': 7, \\'job\\': \\'Character Designer\\', \\'name\\': \\'Andrew Stanton\\', \\'profile_path\\': \\'/pvQWsu0qc8JFQhMVJkTHuexUAa1.jpg\\'}, {\\'credit_id\\': \\'58921332c3a368634800467b\\', \\'department\\': \\'Visual Effects\\', \\'gender\\': 0, \\'id\\': 12915, \\'job\\': \\'Character Designer\\', \\'name\\': \\'William Cone\\', \\'profile_path\\': None}, {\\'credit_id\\': \\'5892135f9251412dd4008f90\\', \\'department\\': \\'Visual Effects\\', \\'gender\\': 0, \\'id\\': 1748706, \\'job\\': \\'Character Designer\\', \\'name\\': \\'Steve Johnson\\', \\'profile_path\\': None}, {\\'credit_id\\': \\'58921384c3a3680973008fd4\\', \\'department\\': \\'Visual Effects\\', \\'gender\\': 0, \\'id\\': 1176752, \\'job\\': \\'Character Designer\\', \\'name\\': \\'Dan Haskett\\', \\'profile_path\\': None}, {\\'credit_id\\': \\'5892138e9251412dc20099fc\\', \\'department\\': \\'Visual Effects\\', \\'gender\\': 0, \\'id\\': 1088034, \\'job\\': \\'Character Designer\\', \\'name\\': \\'Tom Holloway\\', \\'profile_path\\': \\'/a0r0T2usTBpgMI5aZbRBDW1fTl8.jpg\\'}, {\\'credit_id\\': \\'58921395c3a368097700942f\\', \\'department\\': \\'Visual Effects\\', \\'gender\\': 0, \\'id\\': 1447465, \\'job\\': \\'Character Designer\\', \\'name\\': \\'Jean Gillmore\\', \\'profile_path\\': None}, {\\'credit_id\\': \\'589213e2c3a3680973009026\\', \\'department\\': \\'Directing\\', \\'gender\\': 0, \\'id\\': 1748709, \\'job\\': \\'Layout\\', \\'name\\': \\'Desirée Mourad\\', \\'profile_path\\': None}, {\\'credit_id\\': \\'589214099251412dc5009d57\\', \\'department\\': \\'Art\\', \\'gender\\': 0, \\'id\\': 1748710, \\'job\\': \\'Set Dresser\\', \\'name\\': \"Kelly O\\'Connell\", \\'profile_path\\': None}, {\\'credit_id\\': \\'58921411c3a3686b0a004f70\\', \\'department\\': \\'Art\\', \\'gender\\': 0, \\'id\\': 1443471, \\'job\\': \\'Set Dresser\\', \\'name\\': \\'Sonoko Konishi\\', \\'profile_path\\': None}, {\\'credit_id\\': \\'58921434c3a368096a00956e\\', \\'department\\': \\'Art\\', \\'gender\\': 0, \\'id\\': 1748711, \\'job\\': \\'Set Dresser\\', \\'name\\': \\'Ann M. Rockwell\\', \\'profile_path\\': None}, {\\'credit_id\\': \\'5892144ac3a36809680090de\\', \\'department\\': \\'Editing\\', \\'gender\\': 0, \\'id\\': 1748712, \\'job\\': \\'Editorial Manager\\', \\'name\\': \\'Julie M. McDonald\\', \\'profile_path\\': None}, {\\'credit_id\\': \\'58921479c3a368096800910f\\', \\'department\\': \\'Editing\\', \\'gender\\': 0, \\'id\\': 1589729, \\'job\\': \\'Assistant Editor\\', \\'name\\': \\'Robin Lee\\', \\'profile_path\\': None}, {\\'credit_id\\': \\'5892148b9251412dd10099cc\\', \\'department\\': \\'Editing\\', \\'gender\\': 0, \\'id\\': 1748716, \\'job\\': \\'Assistant Editor\\', \\'name\\': \\'Tom Freeman\\', \\'profile_path\\': None}, {\\'credit_id\\': \\'589214959251412dcb009b1f\\', \\'department\\': \\'Editing\\', \\'gender\\': 0, \\'id\\': 1748717, \\'job\\': \\'Assistant Editor\\', \\'name\\': \\'Ada Cochavi\\', \\'profile_path\\': None}, {\\'credit_id\\': \\'5892149ec3a3686348004798\\', \\'department\\': \\'Editing\\', \\'gender\\': 0, \\'id\\': 1336438, \\'job\\': \\'Assistant Editor\\', \\'name\\': \\'Dana Mulligan\\', \\'profile_path\\': None}, {\\'credit_id\\': \\'589214adc3a368096a0095db\\', \\'department\\': \\'Editing\\', \\'gender\\': 0, \\'id\\': 1748718, \\'job\\': \\'Editorial Coordinator\\', \\'name\\': \\'Deirdre Morrison\\', \\'profile_path\\': None}, {\\'credit_id\\': \\'589214c7c3a368097700952b\\', \\'department\\': \\'Production\\', \\'gender\\': 0, \\'id\\': 1748719, \\'job\\': \\'Production Coordinator\\', \\'name\\': \\'Lori Lombardo\\', \\'profile_path\\': None}, {\\'credit_id\\': \\'589214cec3a368096a009603\\', \\'department\\': \\'Production\\', \\'gender\\': 0, \\'id\\': 1748720, \\'job\\': \\'Production Coordinator\\', \\'name\\': \\'Ellen Devine\\', \\'profile_path\\': None}, {\\'credit_id\\': \\'589214e39251412dc8009904\\', \\'department\\': \\'Crew\\', \\'gender\\': 0, \\'id\\': 1468014, \\'job\\': \\'Unit Publicist\\', \\'name\\': \\'Lauren Beth Strogoff\\', \\'profile_path\\': None}, {\\'credit_id\\': \\'58921544c3a3686b0a00507d\\', \\'department\\': \\'Sound\\', \\'gender\\': 2, \\'id\\': 2216, \\'job\\': \\'Sound Re-Recording Mixer\\', \\'name\\': \\'Gary Rydstrom\\', \\'profile_path\\': \\'/jZpr1nVfO7lldWI0YtmP1FGw7Rj.jpg\\'}, {\\'credit_id\\': \\'5892154c9251412dd1009a56\\', \\'department\\': \\'Sound\\', \\'gender\\': 0, \\'id\\': 1425978, \\'job\\': \\'Sound Re-Recording Mixer\\', \\'name\\': \\'Gary Summers\\', \\'profile_path\\': None}, {\\'credit_id\\': \\'58921555c3a36809680091bd\\', \\'department\\': \\'Sound\\', \\'gender\\': 2, \\'id\\': 8276, \\'job\\': \\'Supervising Sound Editor\\', \\'name\\': \\'Tim Holland\\', \\'profile_path\\': None}, {\\'credit_id\\': \\'589215c39251412dcb009c12\\', \\'department\\': \\'Sound\\', \\'gender\\': 0, \\'id\\': 7069, \\'job\\': \\'Sound Effects Editor\\', \\'name\\': \\'Pat Jackson\\', \\'profile_path\\': None}, {\\'credit_id\\': \\'58921698c3a368096a009788\\', \\'department\\': \\'Crew\\', \\'gender\\': 2, \\'id\\': 15894, \\'job\\': \\'Sound Design Assistant\\', \\'name\\': \\'Tom Myers\\', \\'profile_path\\': None}, {\\'credit_id\\': \\'589216a89251412dc2009ca4\\', \\'department\\': \\'Sound\\', \\'gender\\': 0, \\'id\\': 1414177, \\'job\\': \\'Assistant Sound Editor\\', \\'name\\': \\'J.R. Grubbs\\', \\'profile_path\\': None}, {\\'credit_id\\': \\'589216c19251412dc2009cb9\\', \\'department\\': \\'Sound\\', \\'gender\\': 1, \\'id\\': 1748724, \\'job\\': \\'Assistant Sound Editor\\', \\'name\\': \\'Susan Sanford\\', \\'profile_path\\': None}, {\\'credit_id\\': \\'589216ccc3a3680973009274\\', \\'department\\': \\'Sound\\', \\'gender\\': 0, \\'id\\': 1748725, \\'job\\': \\'Assistant Sound Editor\\', \\'name\\': \\'Susan Popovic\\', \\'profile_path\\': None}, {\\'credit_id\\': \\'589216d79251412dc8009aa0\\', \\'department\\': \\'Sound\\', \\'gender\\': 0, \\'id\\': 8067, \\'job\\': \\'Assistant Sound Editor\\', \\'name\\': \\'Dan Engstrom\\', \\'profile_path\\': None}, {\\'credit_id\\': \\'589216e49251412dcd009a4f\\', \\'department\\': \\'Production\\', \\'gender\\': 1, \\'id\\': 7902, \\'job\\': \\'Casting Consultant\\', \\'name\\': \\'Ruth Lambert\\', \\'profile_path\\': None}, {\\'credit_id\\': \\'589216f39251412dc2009cf3\\', \\'department\\': \\'Production\\', \\'gender\\': 0, \\'id\\': 84493, \\'job\\': \\'ADR Voice Casting\\', \\'name\\': \\'Mickie McGowan\\', \\'profile_path\\': \\'/k7TjJBfINsg8vLQxJwos6XObAD6.jpg\\'}]'"
      ]
     },
     "execution_count": 182,
     "metadata": {},
     "output_type": "execute_result"
    }
   ],
   "source": [
    "movies.iloc[0].crew"
   ]
  },
  {
   "cell_type": "code",
   "execution_count": 183,
   "id": "aa6a0cfa",
   "metadata": {},
   "outputs": [],
   "source": [
    "def fetch_director(obj):\n",
    "    L = []\n",
    "    for i in ast.literal_eval(obj):\n",
    "        if i['job'] == 'Director':\n",
    "            L.append(i['name'])\n",
    "            break\n",
    "    return L"
   ]
  },
  {
   "cell_type": "code",
   "execution_count": 184,
   "id": "c3b68cda",
   "metadata": {},
   "outputs": [],
   "source": [
    "movies['crew']=movies['crew'].apply(fetch_director)"
   ]
  },
  {
   "cell_type": "code",
   "execution_count": 185,
   "id": "ddd5dfa2",
   "metadata": {},
   "outputs": [
    {
     "data": {
      "text/html": [
       "<div>\n",
       "<style scoped>\n",
       "    .dataframe tbody tr th:only-of-type {\n",
       "        vertical-align: middle;\n",
       "    }\n",
       "\n",
       "    .dataframe tbody tr th {\n",
       "        vertical-align: top;\n",
       "    }\n",
       "\n",
       "    .dataframe thead th {\n",
       "        text-align: right;\n",
       "    }\n",
       "</style>\n",
       "<table border=\"1\" class=\"dataframe\">\n",
       "  <thead>\n",
       "    <tr style=\"text-align: right;\">\n",
       "      <th></th>\n",
       "      <th>belongs_to_collection</th>\n",
       "      <th>genres</th>\n",
       "      <th>id</th>\n",
       "      <th>original_title</th>\n",
       "      <th>overview</th>\n",
       "      <th>cast</th>\n",
       "      <th>crew</th>\n",
       "    </tr>\n",
       "  </thead>\n",
       "  <tbody>\n",
       "    <tr>\n",
       "      <th>0</th>\n",
       "      <td>[{'id': 10194, 'name': 'Toy Story Collection',...</td>\n",
       "      <td>[Animation, Comedy, Family]</td>\n",
       "      <td>862</td>\n",
       "      <td>Toy Story</td>\n",
       "      <td>Led by Woody, Andy's toys live happily in his ...</td>\n",
       "      <td>[Tom Hanks, Tim Allen, Don Rickles, Jim Varney...</td>\n",
       "      <td>[John Lasseter]</td>\n",
       "    </tr>\n",
       "  </tbody>\n",
       "</table>\n",
       "</div>"
      ],
      "text/plain": [
       "                               belongs_to_collection  \\\n",
       "0  [{'id': 10194, 'name': 'Toy Story Collection',...   \n",
       "\n",
       "                        genres   id original_title  \\\n",
       "0  [Animation, Comedy, Family]  862      Toy Story   \n",
       "\n",
       "                                            overview  \\\n",
       "0  Led by Woody, Andy's toys live happily in his ...   \n",
       "\n",
       "                                                cast             crew  \n",
       "0  [Tom Hanks, Tim Allen, Don Rickles, Jim Varney...  [John Lasseter]  "
      ]
     },
     "execution_count": 185,
     "metadata": {},
     "output_type": "execute_result"
    }
   ],
   "source": [
    "movies.head(1)"
   ]
  },
  {
   "cell_type": "code",
   "execution_count": 186,
   "id": "d9cb6714",
   "metadata": {},
   "outputs": [
    {
     "data": {
      "text/plain": [
       "\"[{'id': 10194, 'name': 'Toy Story Collection', 'poster_path': '/7G9915LfUQ2lVfwMEEhDsn3kT4B.jpg', 'backdrop_path': '/9FBwqcd9IRruEDUrTdcaafOMKUq.jpg'}]\""
      ]
     },
     "execution_count": 186,
     "metadata": {},
     "output_type": "execute_result"
    }
   ],
   "source": [
    "movies.iloc[0].belongs_to_collection"
   ]
  },
  {
   "cell_type": "code",
   "execution_count": 187,
   "id": "eaaa1d79",
   "metadata": {},
   "outputs": [],
   "source": [
    "import ast\n",
    "def convert1(obj):\n",
    "    L = []\n",
    "    for i in ast.literal_eval(obj):\n",
    "        L.append(i['poster_path'])\n",
    "    return L"
   ]
  },
  {
   "cell_type": "code",
   "execution_count": 188,
   "id": "5645d57e",
   "metadata": {},
   "outputs": [],
   "source": [
    "movies['belongs_to_collection']=movies['belongs_to_collection'].apply(convert1)"
   ]
  },
  {
   "cell_type": "code",
   "execution_count": 189,
   "id": "4dc97c19",
   "metadata": {},
   "outputs": [
    {
     "data": {
      "text/html": [
       "<div>\n",
       "<style scoped>\n",
       "    .dataframe tbody tr th:only-of-type {\n",
       "        vertical-align: middle;\n",
       "    }\n",
       "\n",
       "    .dataframe tbody tr th {\n",
       "        vertical-align: top;\n",
       "    }\n",
       "\n",
       "    .dataframe thead th {\n",
       "        text-align: right;\n",
       "    }\n",
       "</style>\n",
       "<table border=\"1\" class=\"dataframe\">\n",
       "  <thead>\n",
       "    <tr style=\"text-align: right;\">\n",
       "      <th></th>\n",
       "      <th>belongs_to_collection</th>\n",
       "      <th>genres</th>\n",
       "      <th>id</th>\n",
       "      <th>original_title</th>\n",
       "      <th>overview</th>\n",
       "      <th>cast</th>\n",
       "      <th>crew</th>\n",
       "    </tr>\n",
       "  </thead>\n",
       "  <tbody>\n",
       "    <tr>\n",
       "      <th>0</th>\n",
       "      <td>[/7G9915LfUQ2lVfwMEEhDsn3kT4B.jpg]</td>\n",
       "      <td>[Animation, Comedy, Family]</td>\n",
       "      <td>862</td>\n",
       "      <td>Toy Story</td>\n",
       "      <td>Led by Woody, Andy's toys live happily in his ...</td>\n",
       "      <td>[Tom Hanks, Tim Allen, Don Rickles, Jim Varney...</td>\n",
       "      <td>[John Lasseter]</td>\n",
       "    </tr>\n",
       "  </tbody>\n",
       "</table>\n",
       "</div>"
      ],
      "text/plain": [
       "                belongs_to_collection                       genres   id  \\\n",
       "0  [/7G9915LfUQ2lVfwMEEhDsn3kT4B.jpg]  [Animation, Comedy, Family]  862   \n",
       "\n",
       "  original_title                                           overview  \\\n",
       "0      Toy Story  Led by Woody, Andy's toys live happily in his ...   \n",
       "\n",
       "                                                cast             crew  \n",
       "0  [Tom Hanks, Tim Allen, Don Rickles, Jim Varney...  [John Lasseter]  "
      ]
     },
     "execution_count": 189,
     "metadata": {},
     "output_type": "execute_result"
    }
   ],
   "source": [
    "movies.head(1)"
   ]
  },
  {
   "cell_type": "code",
   "execution_count": null,
   "id": "aeaefc1f",
   "metadata": {},
   "outputs": [],
   "source": []
  },
  {
   "cell_type": "code",
   "execution_count": 190,
   "id": "4b73ac93",
   "metadata": {},
   "outputs": [
    {
     "data": {
      "text/html": [
       "<div>\n",
       "<style scoped>\n",
       "    .dataframe tbody tr th:only-of-type {\n",
       "        vertical-align: middle;\n",
       "    }\n",
       "\n",
       "    .dataframe tbody tr th {\n",
       "        vertical-align: top;\n",
       "    }\n",
       "\n",
       "    .dataframe thead th {\n",
       "        text-align: right;\n",
       "    }\n",
       "</style>\n",
       "<table border=\"1\" class=\"dataframe\">\n",
       "  <thead>\n",
       "    <tr style=\"text-align: right;\">\n",
       "      <th></th>\n",
       "      <th>userId</th>\n",
       "      <th>movieId</th>\n",
       "      <th>rating</th>\n",
       "      <th>timestamp</th>\n",
       "    </tr>\n",
       "  </thead>\n",
       "  <tbody>\n",
       "    <tr>\n",
       "      <th>0</th>\n",
       "      <td>1</td>\n",
       "      <td>31</td>\n",
       "      <td>2.5</td>\n",
       "      <td>1260759144</td>\n",
       "    </tr>\n",
       "  </tbody>\n",
       "</table>\n",
       "</div>"
      ],
      "text/plain": [
       "   userId  movieId  rating   timestamp\n",
       "0       1       31     2.5  1260759144"
      ]
     },
     "execution_count": 190,
     "metadata": {},
     "output_type": "execute_result"
    }
   ],
   "source": [
    "ratings.head(1)"
   ]
  },
  {
   "cell_type": "code",
   "execution_count": 191,
   "id": "eefb6de5",
   "metadata": {},
   "outputs": [],
   "source": [
    "ratings = ratings[['userId','movieId','rating']]"
   ]
  },
  {
   "cell_type": "code",
   "execution_count": 192,
   "id": "1b845d25",
   "metadata": {},
   "outputs": [
    {
     "data": {
      "text/html": [
       "<div>\n",
       "<style scoped>\n",
       "    .dataframe tbody tr th:only-of-type {\n",
       "        vertical-align: middle;\n",
       "    }\n",
       "\n",
       "    .dataframe tbody tr th {\n",
       "        vertical-align: top;\n",
       "    }\n",
       "\n",
       "    .dataframe thead th {\n",
       "        text-align: right;\n",
       "    }\n",
       "</style>\n",
       "<table border=\"1\" class=\"dataframe\">\n",
       "  <thead>\n",
       "    <tr style=\"text-align: right;\">\n",
       "      <th></th>\n",
       "      <th>userId</th>\n",
       "      <th>movieId</th>\n",
       "      <th>rating</th>\n",
       "    </tr>\n",
       "  </thead>\n",
       "  <tbody>\n",
       "    <tr>\n",
       "      <th>0</th>\n",
       "      <td>1</td>\n",
       "      <td>31</td>\n",
       "      <td>2.5</td>\n",
       "    </tr>\n",
       "  </tbody>\n",
       "</table>\n",
       "</div>"
      ],
      "text/plain": [
       "   userId  movieId  rating\n",
       "0       1       31     2.5"
      ]
     },
     "execution_count": 192,
     "metadata": {},
     "output_type": "execute_result"
    }
   ],
   "source": [
    "ratings.head(1)"
   ]
  },
  {
   "cell_type": "code",
   "execution_count": 193,
   "id": "ddefd57e",
   "metadata": {},
   "outputs": [],
   "source": [
    "ratings['id']=ratings['movieId']"
   ]
  },
  {
   "cell_type": "code",
   "execution_count": 194,
   "id": "1d9a1ff3",
   "metadata": {},
   "outputs": [
    {
     "data": {
      "text/html": [
       "<div>\n",
       "<style scoped>\n",
       "    .dataframe tbody tr th:only-of-type {\n",
       "        vertical-align: middle;\n",
       "    }\n",
       "\n",
       "    .dataframe tbody tr th {\n",
       "        vertical-align: top;\n",
       "    }\n",
       "\n",
       "    .dataframe thead th {\n",
       "        text-align: right;\n",
       "    }\n",
       "</style>\n",
       "<table border=\"1\" class=\"dataframe\">\n",
       "  <thead>\n",
       "    <tr style=\"text-align: right;\">\n",
       "      <th></th>\n",
       "      <th>userId</th>\n",
       "      <th>movieId</th>\n",
       "      <th>rating</th>\n",
       "      <th>id</th>\n",
       "    </tr>\n",
       "  </thead>\n",
       "  <tbody>\n",
       "    <tr>\n",
       "      <th>0</th>\n",
       "      <td>1</td>\n",
       "      <td>31</td>\n",
       "      <td>2.5</td>\n",
       "      <td>31</td>\n",
       "    </tr>\n",
       "  </tbody>\n",
       "</table>\n",
       "</div>"
      ],
      "text/plain": [
       "   userId  movieId  rating  id\n",
       "0       1       31     2.5  31"
      ]
     },
     "execution_count": 194,
     "metadata": {},
     "output_type": "execute_result"
    }
   ],
   "source": [
    "ratings.head(1)"
   ]
  },
  {
   "cell_type": "code",
   "execution_count": 195,
   "id": "55c35fa3",
   "metadata": {},
   "outputs": [],
   "source": [
    "ratings = ratings[['userId','id','rating']]"
   ]
  },
  {
   "cell_type": "code",
   "execution_count": 196,
   "id": "7b071a46",
   "metadata": {},
   "outputs": [
    {
     "data": {
      "text/html": [
       "<div>\n",
       "<style scoped>\n",
       "    .dataframe tbody tr th:only-of-type {\n",
       "        vertical-align: middle;\n",
       "    }\n",
       "\n",
       "    .dataframe tbody tr th {\n",
       "        vertical-align: top;\n",
       "    }\n",
       "\n",
       "    .dataframe thead th {\n",
       "        text-align: right;\n",
       "    }\n",
       "</style>\n",
       "<table border=\"1\" class=\"dataframe\">\n",
       "  <thead>\n",
       "    <tr style=\"text-align: right;\">\n",
       "      <th></th>\n",
       "      <th>userId</th>\n",
       "      <th>id</th>\n",
       "      <th>rating</th>\n",
       "    </tr>\n",
       "  </thead>\n",
       "  <tbody>\n",
       "    <tr>\n",
       "      <th>0</th>\n",
       "      <td>1</td>\n",
       "      <td>31</td>\n",
       "      <td>2.5</td>\n",
       "    </tr>\n",
       "  </tbody>\n",
       "</table>\n",
       "</div>"
      ],
      "text/plain": [
       "   userId  id  rating\n",
       "0       1  31     2.5"
      ]
     },
     "execution_count": 196,
     "metadata": {},
     "output_type": "execute_result"
    }
   ],
   "source": [
    "ratings.head(1)"
   ]
  },
  {
   "cell_type": "code",
   "execution_count": 197,
   "id": "41d9c2cc",
   "metadata": {},
   "outputs": [],
   "source": [
    "ratings['id']=ratings['id'].astype(str)"
   ]
  },
  {
   "cell_type": "code",
   "execution_count": 198,
   "id": "c8f351f9",
   "metadata": {},
   "outputs": [],
   "source": [
    "ratings_with_id=ratings.merge(movies,on='id')"
   ]
  },
  {
   "cell_type": "code",
   "execution_count": 199,
   "id": "c573a9dd",
   "metadata": {},
   "outputs": [
    {
     "data": {
      "text/html": [
       "<div>\n",
       "<style scoped>\n",
       "    .dataframe tbody tr th:only-of-type {\n",
       "        vertical-align: middle;\n",
       "    }\n",
       "\n",
       "    .dataframe tbody tr th {\n",
       "        vertical-align: top;\n",
       "    }\n",
       "\n",
       "    .dataframe thead th {\n",
       "        text-align: right;\n",
       "    }\n",
       "</style>\n",
       "<table border=\"1\" class=\"dataframe\">\n",
       "  <thead>\n",
       "    <tr style=\"text-align: right;\">\n",
       "      <th></th>\n",
       "      <th>userId</th>\n",
       "      <th>id</th>\n",
       "      <th>rating</th>\n",
       "      <th>belongs_to_collection</th>\n",
       "      <th>genres</th>\n",
       "      <th>original_title</th>\n",
       "      <th>overview</th>\n",
       "      <th>cast</th>\n",
       "      <th>crew</th>\n",
       "    </tr>\n",
       "  </thead>\n",
       "  <tbody>\n",
       "    <tr>\n",
       "      <th>0</th>\n",
       "      <td>1</td>\n",
       "      <td>1371</td>\n",
       "      <td>2.5</td>\n",
       "      <td>[/mCY5dMkSSFQufGCViI6jNUU6pXq.jpg]</td>\n",
       "      <td>[Drama]</td>\n",
       "      <td>Rocky III</td>\n",
       "      <td>Now the world champion, Rocky Balboa is living...</td>\n",
       "      <td>[Sylvester Stallone, Talia Shire, Burt Young, ...</td>\n",
       "      <td>[Sylvester Stallone]</td>\n",
       "    </tr>\n",
       "  </tbody>\n",
       "</table>\n",
       "</div>"
      ],
      "text/plain": [
       "   userId    id  rating               belongs_to_collection   genres  \\\n",
       "0       1  1371     2.5  [/mCY5dMkSSFQufGCViI6jNUU6pXq.jpg]  [Drama]   \n",
       "\n",
       "  original_title                                           overview  \\\n",
       "0      Rocky III  Now the world champion, Rocky Balboa is living...   \n",
       "\n",
       "                                                cast                  crew  \n",
       "0  [Sylvester Stallone, Talia Shire, Burt Young, ...  [Sylvester Stallone]  "
      ]
     },
     "execution_count": 199,
     "metadata": {},
     "output_type": "execute_result"
    }
   ],
   "source": [
    "ratings_with_id.head(1)"
   ]
  },
  {
   "cell_type": "code",
   "execution_count": 200,
   "id": "99c11e2c",
   "metadata": {},
   "outputs": [
    {
     "data": {
      "text/html": [
       "<div>\n",
       "<style scoped>\n",
       "    .dataframe tbody tr th:only-of-type {\n",
       "        vertical-align: middle;\n",
       "    }\n",
       "\n",
       "    .dataframe tbody tr th {\n",
       "        vertical-align: top;\n",
       "    }\n",
       "\n",
       "    .dataframe thead th {\n",
       "        text-align: right;\n",
       "    }\n",
       "</style>\n",
       "<table border=\"1\" class=\"dataframe\">\n",
       "  <thead>\n",
       "    <tr style=\"text-align: right;\">\n",
       "      <th></th>\n",
       "      <th>id</th>\n",
       "      <th>num_ratings</th>\n",
       "    </tr>\n",
       "  </thead>\n",
       "  <tbody>\n",
       "    <tr>\n",
       "      <th>0</th>\n",
       "      <td>100450</td>\n",
       "      <td>1</td>\n",
       "    </tr>\n",
       "    <tr>\n",
       "      <th>1</th>\n",
       "      <td>105</td>\n",
       "      <td>48</td>\n",
       "    </tr>\n",
       "    <tr>\n",
       "      <th>2</th>\n",
       "      <td>1051</td>\n",
       "      <td>7</td>\n",
       "    </tr>\n",
       "    <tr>\n",
       "      <th>3</th>\n",
       "      <td>108</td>\n",
       "      <td>1</td>\n",
       "    </tr>\n",
       "    <tr>\n",
       "      <th>4</th>\n",
       "      <td>1091</td>\n",
       "      <td>27</td>\n",
       "    </tr>\n",
       "    <tr>\n",
       "      <th>...</th>\n",
       "      <td>...</td>\n",
       "      <td>...</td>\n",
       "    </tr>\n",
       "    <tr>\n",
       "      <th>532</th>\n",
       "      <td>96</td>\n",
       "      <td>1</td>\n",
       "    </tr>\n",
       "    <tr>\n",
       "      <th>533</th>\n",
       "      <td>966</td>\n",
       "      <td>1</td>\n",
       "    </tr>\n",
       "    <tr>\n",
       "      <th>534</th>\n",
       "      <td>97</td>\n",
       "      <td>8</td>\n",
       "    </tr>\n",
       "    <tr>\n",
       "      <th>535</th>\n",
       "      <td>984</td>\n",
       "      <td>2</td>\n",
       "    </tr>\n",
       "    <tr>\n",
       "      <th>536</th>\n",
       "      <td>990</td>\n",
       "      <td>1</td>\n",
       "    </tr>\n",
       "  </tbody>\n",
       "</table>\n",
       "<p>537 rows × 2 columns</p>\n",
       "</div>"
      ],
      "text/plain": [
       "         id  num_ratings\n",
       "0    100450            1\n",
       "1       105           48\n",
       "2      1051            7\n",
       "3       108            1\n",
       "4      1091           27\n",
       "..      ...          ...\n",
       "532      96            1\n",
       "533     966            1\n",
       "534      97            8\n",
       "535     984            2\n",
       "536     990            1\n",
       "\n",
       "[537 rows x 2 columns]"
      ]
     },
     "execution_count": 200,
     "metadata": {},
     "output_type": "execute_result"
    }
   ],
   "source": [
    "num_rating_df=ratings_with_id.groupby('id').count()['rating'].reset_index()\n",
    "num_rating_df.rename(columns={'rating':'num_ratings'},inplace=True)\n",
    "num_rating_df"
   ]
  },
  {
   "cell_type": "code",
   "execution_count": 201,
   "id": "b79fcc5e",
   "metadata": {
    "scrolled": true
   },
   "outputs": [
    {
     "data": {
      "text/plain": [
       "id\n",
       "100450    3.500000\n",
       "105       3.114583\n",
       "1051      3.000000\n",
       "108       4.000000\n",
       "1091      2.629630\n",
       "            ...   \n",
       "96        1.000000\n",
       "966       4.000000\n",
       "97        3.875000\n",
       "984       4.500000\n",
       "990       2.500000\n",
       "Name: avg_rating, Length: 537, dtype: float64"
      ]
     },
     "execution_count": 201,
     "metadata": {},
     "output_type": "execute_result"
    }
   ],
   "source": [
    "avg_rating_df=ratings_with_id.groupby('id')['rating'].mean().rename('avg_rating')\n",
    "avg_rating_df"
   ]
  },
  {
   "cell_type": "code",
   "execution_count": 202,
   "id": "e5e9ff01",
   "metadata": {},
   "outputs": [
    {
     "data": {
      "text/html": [
       "<div>\n",
       "<style scoped>\n",
       "    .dataframe tbody tr th:only-of-type {\n",
       "        vertical-align: middle;\n",
       "    }\n",
       "\n",
       "    .dataframe tbody tr th {\n",
       "        vertical-align: top;\n",
       "    }\n",
       "\n",
       "    .dataframe thead th {\n",
       "        text-align: right;\n",
       "    }\n",
       "</style>\n",
       "<table border=\"1\" class=\"dataframe\">\n",
       "  <thead>\n",
       "    <tr style=\"text-align: right;\">\n",
       "      <th></th>\n",
       "      <th>id</th>\n",
       "      <th>num_ratings</th>\n",
       "      <th>avg_rating</th>\n",
       "    </tr>\n",
       "  </thead>\n",
       "  <tbody>\n",
       "    <tr>\n",
       "      <th>0</th>\n",
       "      <td>100450</td>\n",
       "      <td>1</td>\n",
       "      <td>3.500000</td>\n",
       "    </tr>\n",
       "    <tr>\n",
       "      <th>1</th>\n",
       "      <td>105</td>\n",
       "      <td>48</td>\n",
       "      <td>3.114583</td>\n",
       "    </tr>\n",
       "    <tr>\n",
       "      <th>2</th>\n",
       "      <td>1051</td>\n",
       "      <td>7</td>\n",
       "      <td>3.000000</td>\n",
       "    </tr>\n",
       "    <tr>\n",
       "      <th>3</th>\n",
       "      <td>108</td>\n",
       "      <td>1</td>\n",
       "      <td>4.000000</td>\n",
       "    </tr>\n",
       "    <tr>\n",
       "      <th>4</th>\n",
       "      <td>1091</td>\n",
       "      <td>27</td>\n",
       "      <td>2.629630</td>\n",
       "    </tr>\n",
       "    <tr>\n",
       "      <th>...</th>\n",
       "      <td>...</td>\n",
       "      <td>...</td>\n",
       "      <td>...</td>\n",
       "    </tr>\n",
       "    <tr>\n",
       "      <th>532</th>\n",
       "      <td>96</td>\n",
       "      <td>1</td>\n",
       "      <td>1.000000</td>\n",
       "    </tr>\n",
       "    <tr>\n",
       "      <th>533</th>\n",
       "      <td>966</td>\n",
       "      <td>1</td>\n",
       "      <td>4.000000</td>\n",
       "    </tr>\n",
       "    <tr>\n",
       "      <th>534</th>\n",
       "      <td>97</td>\n",
       "      <td>8</td>\n",
       "      <td>3.875000</td>\n",
       "    </tr>\n",
       "    <tr>\n",
       "      <th>535</th>\n",
       "      <td>984</td>\n",
       "      <td>2</td>\n",
       "      <td>4.500000</td>\n",
       "    </tr>\n",
       "    <tr>\n",
       "      <th>536</th>\n",
       "      <td>990</td>\n",
       "      <td>1</td>\n",
       "      <td>2.500000</td>\n",
       "    </tr>\n",
       "  </tbody>\n",
       "</table>\n",
       "<p>537 rows × 3 columns</p>\n",
       "</div>"
      ],
      "text/plain": [
       "         id  num_ratings  avg_rating\n",
       "0    100450            1    3.500000\n",
       "1       105           48    3.114583\n",
       "2      1051            7    3.000000\n",
       "3       108            1    4.000000\n",
       "4      1091           27    2.629630\n",
       "..      ...          ...         ...\n",
       "532      96            1    1.000000\n",
       "533     966            1    4.000000\n",
       "534      97            8    3.875000\n",
       "535     984            2    4.500000\n",
       "536     990            1    2.500000\n",
       "\n",
       "[537 rows x 3 columns]"
      ]
     },
     "execution_count": 202,
     "metadata": {},
     "output_type": "execute_result"
    }
   ],
   "source": [
    "popular_df = num_rating_df.merge(avg_rating_df,on='id')\n",
    "popular_df"
   ]
  },
  {
   "cell_type": "code",
   "execution_count": 203,
   "id": "e7ace3dc",
   "metadata": {},
   "outputs": [
    {
     "data": {
      "text/html": [
       "<div>\n",
       "<style scoped>\n",
       "    .dataframe tbody tr th:only-of-type {\n",
       "        vertical-align: middle;\n",
       "    }\n",
       "\n",
       "    .dataframe tbody tr th {\n",
       "        vertical-align: top;\n",
       "    }\n",
       "\n",
       "    .dataframe thead th {\n",
       "        text-align: right;\n",
       "    }\n",
       "</style>\n",
       "<table border=\"1\" class=\"dataframe\">\n",
       "  <thead>\n",
       "    <tr style=\"text-align: right;\">\n",
       "      <th></th>\n",
       "      <th>id</th>\n",
       "      <th>num_ratings</th>\n",
       "      <th>avg_rating</th>\n",
       "    </tr>\n",
       "  </thead>\n",
       "  <tbody>\n",
       "    <tr>\n",
       "      <th>354</th>\n",
       "      <td>527</td>\n",
       "      <td>244</td>\n",
       "      <td>4.303279</td>\n",
       "    </tr>\n",
       "    <tr>\n",
       "      <th>399</th>\n",
       "      <td>608</td>\n",
       "      <td>224</td>\n",
       "      <td>4.256696</td>\n",
       "    </tr>\n",
       "    <tr>\n",
       "      <th>226</th>\n",
       "      <td>296</td>\n",
       "      <td>324</td>\n",
       "      <td>4.256173</td>\n",
       "    </tr>\n",
       "    <tr>\n",
       "      <th>324</th>\n",
       "      <td>457</td>\n",
       "      <td>213</td>\n",
       "      <td>3.953052</td>\n",
       "    </tr>\n",
       "    <tr>\n",
       "      <th>6</th>\n",
       "      <td>110</td>\n",
       "      <td>228</td>\n",
       "      <td>3.945175</td>\n",
       "    </tr>\n",
       "    <tr>\n",
       "      <th>178</th>\n",
       "      <td>2502</td>\n",
       "      <td>106</td>\n",
       "      <td>3.915094</td>\n",
       "    </tr>\n",
       "    <tr>\n",
       "      <th>47</th>\n",
       "      <td>150</td>\n",
       "      <td>200</td>\n",
       "      <td>3.902500</td>\n",
       "    </tr>\n",
       "    <tr>\n",
       "      <th>80</th>\n",
       "      <td>1682</td>\n",
       "      <td>137</td>\n",
       "      <td>3.886861</td>\n",
       "    </tr>\n",
       "    <tr>\n",
       "      <th>506</th>\n",
       "      <td>8961</td>\n",
       "      <td>126</td>\n",
       "      <td>3.861111</td>\n",
       "    </tr>\n",
       "    <tr>\n",
       "      <th>220</th>\n",
       "      <td>2791</td>\n",
       "      <td>106</td>\n",
       "      <td>3.820755</td>\n",
       "    </tr>\n",
       "    <tr>\n",
       "      <th>272</th>\n",
       "      <td>364</td>\n",
       "      <td>200</td>\n",
       "      <td>3.777500</td>\n",
       "    </tr>\n",
       "    <tr>\n",
       "      <th>175</th>\n",
       "      <td>25</td>\n",
       "      <td>101</td>\n",
       "      <td>3.742574</td>\n",
       "    </tr>\n",
       "    <tr>\n",
       "      <th>395</th>\n",
       "      <td>588</td>\n",
       "      <td>215</td>\n",
       "      <td>3.674419</td>\n",
       "    </tr>\n",
       "    <tr>\n",
       "      <th>276</th>\n",
       "      <td>377</td>\n",
       "      <td>180</td>\n",
       "      <td>3.566667</td>\n",
       "    </tr>\n",
       "    <tr>\n",
       "      <th>72</th>\n",
       "      <td>165</td>\n",
       "      <td>142</td>\n",
       "      <td>3.443662</td>\n",
       "    </tr>\n",
       "    <tr>\n",
       "      <th>361</th>\n",
       "      <td>539</td>\n",
       "      <td>125</td>\n",
       "      <td>3.428000</td>\n",
       "    </tr>\n",
       "    <tr>\n",
       "      <th>179</th>\n",
       "      <td>253</td>\n",
       "      <td>125</td>\n",
       "      <td>3.396000</td>\n",
       "    </tr>\n",
       "    <tr>\n",
       "      <th>255</th>\n",
       "      <td>329</td>\n",
       "      <td>114</td>\n",
       "      <td>3.350877</td>\n",
       "    </tr>\n",
       "    <tr>\n",
       "      <th>263</th>\n",
       "      <td>344</td>\n",
       "      <td>175</td>\n",
       "      <td>2.871429</td>\n",
       "    </tr>\n",
       "  </tbody>\n",
       "</table>\n",
       "</div>"
      ],
      "text/plain": [
       "       id  num_ratings  avg_rating\n",
       "354   527          244    4.303279\n",
       "399   608          224    4.256696\n",
       "226   296          324    4.256173\n",
       "324   457          213    3.953052\n",
       "6     110          228    3.945175\n",
       "178  2502          106    3.915094\n",
       "47    150          200    3.902500\n",
       "80   1682          137    3.886861\n",
       "506  8961          126    3.861111\n",
       "220  2791          106    3.820755\n",
       "272   364          200    3.777500\n",
       "175    25          101    3.742574\n",
       "395   588          215    3.674419\n",
       "276   377          180    3.566667\n",
       "72    165          142    3.443662\n",
       "361   539          125    3.428000\n",
       "179   253          125    3.396000\n",
       "255   329          114    3.350877\n",
       "263   344          175    2.871429"
      ]
     },
     "execution_count": 203,
     "metadata": {},
     "output_type": "execute_result"
    }
   ],
   "source": [
    "popular_df = popular_df[popular_df['num_ratings']>=100].sort_values('avg_rating',ascending=False).head(20)\n",
    "popular_df"
   ]
  },
  {
   "cell_type": "code",
   "execution_count": null,
   "id": "e77fac61",
   "metadata": {},
   "outputs": [],
   "source": [
    "popular_df3 = "
   ]
  },
  {
   "cell_type": "code",
   "execution_count": 204,
   "id": "c2b5d9ff",
   "metadata": {},
   "outputs": [
    {
     "data": {
      "text/plain": [
       "(19, 3)"
      ]
     },
     "execution_count": 204,
     "metadata": {},
     "output_type": "execute_result"
    }
   ],
   "source": [
    "popular_df.shape"
   ]
  },
  {
   "cell_type": "code",
   "execution_count": 205,
   "id": "7f9ea845",
   "metadata": {},
   "outputs": [],
   "source": [
    "popular_df = popular_df.merge(movies,on='id').drop_duplicates('id')[['id','original_title','genres','overview','cast','crew','avg_rating','belongs_to_collection']]"
   ]
  },
  {
   "cell_type": "code",
   "execution_count": 206,
   "id": "49751b0a",
   "metadata": {},
   "outputs": [
    {
     "name": "stdout",
     "output_type": "stream",
     "text": [
      "      id                         original_title  \\\n",
      "0    527                     Once Were Warriors   \n",
      "1    608                        Men in Black II   \n",
      "2    296     Terminator 3: Rise of the Machines   \n",
      "3    457                                  Sissi   \n",
      "4    110                 Trois couleurs : Rouge   \n",
      "5   2502                   The Bourne Supremacy   \n",
      "6    150                                48 Hrs.   \n",
      "7   1682                      Mosura tai Gojira   \n",
      "8   8961                            Bad Boys II   \n",
      "9   2791   The Chronicles of Riddick: Dark Fury   \n",
      "10   364                         Batman Returns   \n",
      "11    25                                Jarhead   \n",
      "12   588                            Silent Hill   \n",
      "13   377              A Nightmare on Elm Street   \n",
      "14   165             Back to the Future Part II   \n",
      "15   539                                 Psycho   \n",
      "16   253                       Live and Let Die   \n",
      "17   329                          Jurassic Park   \n",
      "18   344  Bang Boom Bang - Ein todsicheres Ding   \n",
      "\n",
      "                                            genres  \\\n",
      "0                                          [Drama]   \n",
      "1     [Action, Adventure, Comedy, Science Fiction]   \n",
      "2              [Action, Thriller, Science Fiction]   \n",
      "3                         [Comedy, Drama, Romance]   \n",
      "4                        [Drama, Mystery, Romance]   \n",
      "5                        [Action, Drama, Thriller]   \n",
      "6         [Thriller, Action, Comedy, Crime, Drama]   \n",
      "7    [Fantasy, Science Fiction, Action, Adventure]   \n",
      "8     [Adventure, Action, Comedy, Thriller, Crime]   \n",
      "9   [Action, Animation, Science Fiction, Thriller]   \n",
      "10                               [Action, Fantasy]   \n",
      "11                                    [Drama, War]   \n",
      "12                               [Horror, Mystery]   \n",
      "13                                        [Horror]   \n",
      "14    [Adventure, Comedy, Family, Science Fiction]   \n",
      "15                       [Drama, Horror, Thriller]   \n",
      "16                   [Adventure, Action, Thriller]   \n",
      "17                    [Adventure, Science Fiction]   \n",
      "18                         [Crime, Action, Comedy]   \n",
      "\n",
      "                                             overview  \\\n",
      "0   A drama about a Maori family lving in Auckland...   \n",
      "1   Kay and Jay reunite to provide our best, last ...   \n",
      "2   It's been 10 years since John Connor saved Ear...   \n",
      "3   The young Bavarian princess Elisabeth, who all...   \n",
      "4   Red This is the third film from the trilogy by...   \n",
      "5   When a CIA operation to purchase classified Ru...   \n",
      "6   A hard-nosed cop reluctantly teams up with a w...   \n",
      "7   The 4th film in the Godzilla franchise restore...   \n",
      "8   Out-of-control, trash-talking buddy cops Marcu...   \n",
      "9   After their narrow escape at the end of \"Pitch...   \n",
      "10  Having defeated the Joker, Batman now faces th...   \n",
      "11  Jarhead is a film about a US Marine Anthony Sw...   \n",
      "12  The eerie and deserted ghost town of Silent Hi...   \n",
      "13  Teenagers in a small town are dropping like fl...   \n",
      "14  Marty and Doc are at it again in this wacky se...   \n",
      "15  When larcenous real estate clerk Marion Crane ...   \n",
      "16  James Bond must investigate a mysterious murde...   \n",
      "17  A wealthy entrepreneur secretly creates a them...   \n",
      "18  Bank robber Kelle Grabowski escapes from priso...   \n",
      "\n",
      "                                                 cast                    crew  \\\n",
      "0   [Rena Owen, Temuera Morrison, Mamaengaroa Kerr...          [Lee Tamahori]   \n",
      "1   [Tommy Lee Jones, Will Smith, Rip Torn, Lara F...      [Barry Sonnenfeld]   \n",
      "2   [Arnold Schwarzenegger, Nick Stahl, Claire Dan...       [Jonathan Mostow]   \n",
      "3   [Romy Schneider, Karlheinz Böhm, Magda Schneid...       [Ernst Marischka]   \n",
      "4   [Irène Jacob, Jean-Louis Trintignant, Jean-Pie...  [Krzysztof Kieślowski]   \n",
      "5   [Matt Damon, Franka Potente, Brian Cox, Julia ...       [Paul Greengrass]   \n",
      "6   [Nick Nolte, Eddie Murphy, Annette O'Toole, Fr...           [Walter Hill]   \n",
      "7   [Akira Takarada, Yuriko Hoshi, Hiroshi Koizumi...          [Ishirô Honda]   \n",
      "8   [Martin Lawrence, Will Smith, Jordi Mollà, Gab...           [Michael Bay]   \n",
      "9   [Vin Diesel, Rhiana Griffith, Keith David, Nic...           [Peter Chung]   \n",
      "10  [Michael Keaton, Danny DeVito, Michelle Pfeiff...            [Tim Burton]   \n",
      "11  [Jamie Foxx, Jake Gyllenhaal, Scott MacDonald,...            [Sam Mendes]   \n",
      "12  [Radha Mitchell, Sean Bean, Laurie Holden, Deb...       [Christophe Gans]   \n",
      "13  [John Saxon, Ronee Blakley, Heather Langenkamp...            [Wes Craven]   \n",
      "14  [Michael J. Fox, Christopher Lloyd, Lea Thomps...       [Robert Zemeckis]   \n",
      "15  [Anthony Perkins, Vera Miles, John Gavin, Jane...      [Alfred Hitchcock]   \n",
      "16  [Roger Moore, Yaphet Kotto, Jane Seymour, Clif...          [Guy Hamilton]   \n",
      "17  [Sam Neill, Laura Dern, Jeff Goldblum, Richard...      [Steven Spielberg]   \n",
      "18  [Oliver Korittke, Markus Knüfken, Ralf Richter...       [Peter Thorwarth]   \n",
      "\n",
      "    avg_rating               belongs_to_collection  \n",
      "0     4.303279                              [None]  \n",
      "1     4.256696  [/rWcgZaoJ0nxTFRn0H6w9bdtoDUI.jpg]  \n",
      "2     4.256173  [/vxiKtcxAJxHhlg2H1X8y7zcM3k6.jpg]  \n",
      "3     3.953052  [/4tVV2YsrhK2hi43LlqNBRBvmsIQ.jpg]  \n",
      "4     3.945175  [/rVdd23QuT5rHX7lZvuAkRRUkeCZ.jpg]  \n",
      "5     3.915094  [/lTfOZ25PhQkmGb5NHmaFnwB7b13.jpg]  \n",
      "6     3.902500  [/8Dlcb8aDch6sUcWBc8zSSfNbPgG.jpg]  \n",
      "7     3.886861  [/scvwS6k8gIW8w24UcmePQqVL10l.jpg]  \n",
      "8     3.861111  [/tSVbihfvVTCbcm0zXKA7L8R6Y9v.jpg]  \n",
      "9     3.820755   [/4R2zrqk9KzgxU9UDH3yUUsENXR.jpg]  \n",
      "10    3.777500   [/adQxUvQW8HXNsvMG5aj71pHh9T.jpg]  \n",
      "11    3.742574  [/aRFpBjCseFD6UmahAuLdqS7Or5q.jpg]  \n",
      "12    3.674419  [/4cJgWqtVfVxxzpqyKkUtClHY0VM.jpg]  \n",
      "13    3.566667   [/BcgmrOz69AUBRukw5LLGeYsOgo.jpg]  \n",
      "14    3.443662   [/UV8VEgAxgKVnCVnZhFACmhxjE4.jpg]  \n",
      "15    3.428000  [/29pDqAgmb4idzWzuZncoT7LZplA.jpg]  \n",
      "16    3.396000   [/HORpg5CSkmeQlAolx3bKMrKgfi.jpg]  \n",
      "17    3.350877  [/qIm2nHXLpBBdMxi8dvfrnDkBUDh.jpg]  \n",
      "18    2.871429  [/lVF4mWjtJdAGYjMrtspnoOlKOYF.jpg]  \n"
     ]
    }
   ],
   "source": [
    "print(popular_df)"
   ]
  },
  {
   "cell_type": "code",
   "execution_count": null,
   "id": "d1551e78",
   "metadata": {},
   "outputs": [],
   "source": []
  },
  {
   "cell_type": "code",
   "execution_count": 207,
   "id": "56ec6391",
   "metadata": {},
   "outputs": [
    {
     "data": {
      "text/plain": [
       "'527'"
      ]
     },
     "execution_count": 207,
     "metadata": {},
     "output_type": "execute_result"
    }
   ],
   "source": [
    "popular_df.iloc[0].id"
   ]
  },
  {
   "cell_type": "code",
   "execution_count": 208,
   "id": "97243fa3",
   "metadata": {},
   "outputs": [
    {
     "data": {
      "text/plain": [
       "['/rWcgZaoJ0nxTFRn0H6w9bdtoDUI.jpg']"
      ]
     },
     "execution_count": 208,
     "metadata": {},
     "output_type": "execute_result"
    }
   ],
   "source": [
    "popular_df.iloc[1].belongs_to_collection"
   ]
  },
  {
   "cell_type": "code",
   "execution_count": 209,
   "id": "dfa0ada1",
   "metadata": {},
   "outputs": [],
   "source": [
    "popular_df['belongs_to_collection']=popular_df['belongs_to_collection'].str[0]"
   ]
  },
  {
   "cell_type": "code",
   "execution_count": 210,
   "id": "f9cab919",
   "metadata": {},
   "outputs": [
    {
     "name": "stdout",
     "output_type": "stream",
     "text": [
      "      id                         original_title  \\\n",
      "0    527                     Once Were Warriors   \n",
      "1    608                        Men in Black II   \n",
      "2    296     Terminator 3: Rise of the Machines   \n",
      "3    457                                  Sissi   \n",
      "4    110                 Trois couleurs : Rouge   \n",
      "5   2502                   The Bourne Supremacy   \n",
      "6    150                                48 Hrs.   \n",
      "7   1682                      Mosura tai Gojira   \n",
      "8   8961                            Bad Boys II   \n",
      "9   2791   The Chronicles of Riddick: Dark Fury   \n",
      "10   364                         Batman Returns   \n",
      "11    25                                Jarhead   \n",
      "12   588                            Silent Hill   \n",
      "13   377              A Nightmare on Elm Street   \n",
      "14   165             Back to the Future Part II   \n",
      "15   539                                 Psycho   \n",
      "16   253                       Live and Let Die   \n",
      "17   329                          Jurassic Park   \n",
      "18   344  Bang Boom Bang - Ein todsicheres Ding   \n",
      "\n",
      "                                            genres  \\\n",
      "0                                          [Drama]   \n",
      "1     [Action, Adventure, Comedy, Science Fiction]   \n",
      "2              [Action, Thriller, Science Fiction]   \n",
      "3                         [Comedy, Drama, Romance]   \n",
      "4                        [Drama, Mystery, Romance]   \n",
      "5                        [Action, Drama, Thriller]   \n",
      "6         [Thriller, Action, Comedy, Crime, Drama]   \n",
      "7    [Fantasy, Science Fiction, Action, Adventure]   \n",
      "8     [Adventure, Action, Comedy, Thriller, Crime]   \n",
      "9   [Action, Animation, Science Fiction, Thriller]   \n",
      "10                               [Action, Fantasy]   \n",
      "11                                    [Drama, War]   \n",
      "12                               [Horror, Mystery]   \n",
      "13                                        [Horror]   \n",
      "14    [Adventure, Comedy, Family, Science Fiction]   \n",
      "15                       [Drama, Horror, Thriller]   \n",
      "16                   [Adventure, Action, Thriller]   \n",
      "17                    [Adventure, Science Fiction]   \n",
      "18                         [Crime, Action, Comedy]   \n",
      "\n",
      "                                             overview  \\\n",
      "0   A drama about a Maori family lving in Auckland...   \n",
      "1   Kay and Jay reunite to provide our best, last ...   \n",
      "2   It's been 10 years since John Connor saved Ear...   \n",
      "3   The young Bavarian princess Elisabeth, who all...   \n",
      "4   Red This is the third film from the trilogy by...   \n",
      "5   When a CIA operation to purchase classified Ru...   \n",
      "6   A hard-nosed cop reluctantly teams up with a w...   \n",
      "7   The 4th film in the Godzilla franchise restore...   \n",
      "8   Out-of-control, trash-talking buddy cops Marcu...   \n",
      "9   After their narrow escape at the end of \"Pitch...   \n",
      "10  Having defeated the Joker, Batman now faces th...   \n",
      "11  Jarhead is a film about a US Marine Anthony Sw...   \n",
      "12  The eerie and deserted ghost town of Silent Hi...   \n",
      "13  Teenagers in a small town are dropping like fl...   \n",
      "14  Marty and Doc are at it again in this wacky se...   \n",
      "15  When larcenous real estate clerk Marion Crane ...   \n",
      "16  James Bond must investigate a mysterious murde...   \n",
      "17  A wealthy entrepreneur secretly creates a them...   \n",
      "18  Bank robber Kelle Grabowski escapes from priso...   \n",
      "\n",
      "                                                 cast                    crew  \\\n",
      "0   [Rena Owen, Temuera Morrison, Mamaengaroa Kerr...          [Lee Tamahori]   \n",
      "1   [Tommy Lee Jones, Will Smith, Rip Torn, Lara F...      [Barry Sonnenfeld]   \n",
      "2   [Arnold Schwarzenegger, Nick Stahl, Claire Dan...       [Jonathan Mostow]   \n",
      "3   [Romy Schneider, Karlheinz Böhm, Magda Schneid...       [Ernst Marischka]   \n",
      "4   [Irène Jacob, Jean-Louis Trintignant, Jean-Pie...  [Krzysztof Kieślowski]   \n",
      "5   [Matt Damon, Franka Potente, Brian Cox, Julia ...       [Paul Greengrass]   \n",
      "6   [Nick Nolte, Eddie Murphy, Annette O'Toole, Fr...           [Walter Hill]   \n",
      "7   [Akira Takarada, Yuriko Hoshi, Hiroshi Koizumi...          [Ishirô Honda]   \n",
      "8   [Martin Lawrence, Will Smith, Jordi Mollà, Gab...           [Michael Bay]   \n",
      "9   [Vin Diesel, Rhiana Griffith, Keith David, Nic...           [Peter Chung]   \n",
      "10  [Michael Keaton, Danny DeVito, Michelle Pfeiff...            [Tim Burton]   \n",
      "11  [Jamie Foxx, Jake Gyllenhaal, Scott MacDonald,...            [Sam Mendes]   \n",
      "12  [Radha Mitchell, Sean Bean, Laurie Holden, Deb...       [Christophe Gans]   \n",
      "13  [John Saxon, Ronee Blakley, Heather Langenkamp...            [Wes Craven]   \n",
      "14  [Michael J. Fox, Christopher Lloyd, Lea Thomps...       [Robert Zemeckis]   \n",
      "15  [Anthony Perkins, Vera Miles, John Gavin, Jane...      [Alfred Hitchcock]   \n",
      "16  [Roger Moore, Yaphet Kotto, Jane Seymour, Clif...          [Guy Hamilton]   \n",
      "17  [Sam Neill, Laura Dern, Jeff Goldblum, Richard...      [Steven Spielberg]   \n",
      "18  [Oliver Korittke, Markus Knüfken, Ralf Richter...       [Peter Thorwarth]   \n",
      "\n",
      "    avg_rating             belongs_to_collection  \n",
      "0     4.303279                              None  \n",
      "1     4.256696  /rWcgZaoJ0nxTFRn0H6w9bdtoDUI.jpg  \n",
      "2     4.256173  /vxiKtcxAJxHhlg2H1X8y7zcM3k6.jpg  \n",
      "3     3.953052  /4tVV2YsrhK2hi43LlqNBRBvmsIQ.jpg  \n",
      "4     3.945175  /rVdd23QuT5rHX7lZvuAkRRUkeCZ.jpg  \n",
      "5     3.915094  /lTfOZ25PhQkmGb5NHmaFnwB7b13.jpg  \n",
      "6     3.902500  /8Dlcb8aDch6sUcWBc8zSSfNbPgG.jpg  \n",
      "7     3.886861  /scvwS6k8gIW8w24UcmePQqVL10l.jpg  \n",
      "8     3.861111  /tSVbihfvVTCbcm0zXKA7L8R6Y9v.jpg  \n",
      "9     3.820755   /4R2zrqk9KzgxU9UDH3yUUsENXR.jpg  \n",
      "10    3.777500   /adQxUvQW8HXNsvMG5aj71pHh9T.jpg  \n",
      "11    3.742574  /aRFpBjCseFD6UmahAuLdqS7Or5q.jpg  \n",
      "12    3.674419  /4cJgWqtVfVxxzpqyKkUtClHY0VM.jpg  \n",
      "13    3.566667   /BcgmrOz69AUBRukw5LLGeYsOgo.jpg  \n",
      "14    3.443662   /UV8VEgAxgKVnCVnZhFACmhxjE4.jpg  \n",
      "15    3.428000  /29pDqAgmb4idzWzuZncoT7LZplA.jpg  \n",
      "16    3.396000   /HORpg5CSkmeQlAolx3bKMrKgfi.jpg  \n",
      "17    3.350877  /qIm2nHXLpBBdMxi8dvfrnDkBUDh.jpg  \n",
      "18    2.871429  /lVF4mWjtJdAGYjMrtspnoOlKOYF.jpg  \n"
     ]
    }
   ],
   "source": [
    "print(popular_df)"
   ]
  },
  {
   "cell_type": "code",
   "execution_count": 211,
   "id": "5c254797",
   "metadata": {},
   "outputs": [],
   "source": [
    "import pickle\n",
    "pickle.dump(popular_df,open('popular1.pkl','wb'))"
   ]
  },
  {
   "cell_type": "code",
   "execution_count": 212,
   "id": "199ca202",
   "metadata": {},
   "outputs": [
    {
     "data": {
      "text/html": [
       "<div>\n",
       "<style scoped>\n",
       "    .dataframe tbody tr th:only-of-type {\n",
       "        vertical-align: middle;\n",
       "    }\n",
       "\n",
       "    .dataframe tbody tr th {\n",
       "        vertical-align: top;\n",
       "    }\n",
       "\n",
       "    .dataframe thead th {\n",
       "        text-align: right;\n",
       "    }\n",
       "</style>\n",
       "<table border=\"1\" class=\"dataframe\">\n",
       "  <thead>\n",
       "    <tr style=\"text-align: right;\">\n",
       "      <th></th>\n",
       "      <th>id</th>\n",
       "      <th>original_title</th>\n",
       "      <th>genres</th>\n",
       "      <th>overview</th>\n",
       "      <th>cast</th>\n",
       "      <th>crew</th>\n",
       "      <th>avg_rating</th>\n",
       "      <th>belongs_to_collection</th>\n",
       "    </tr>\n",
       "  </thead>\n",
       "  <tbody>\n",
       "    <tr>\n",
       "      <th>0</th>\n",
       "      <td>527</td>\n",
       "      <td>Once Were Warriors</td>\n",
       "      <td>[Drama]</td>\n",
       "      <td>A drama about a Maori family lving in Auckland...</td>\n",
       "      <td>[Rena Owen, Temuera Morrison, Mamaengaroa Kerr...</td>\n",
       "      <td>[Lee Tamahori]</td>\n",
       "      <td>4.303279</td>\n",
       "      <td>None</td>\n",
       "    </tr>\n",
       "    <tr>\n",
       "      <th>1</th>\n",
       "      <td>608</td>\n",
       "      <td>Men in Black II</td>\n",
       "      <td>[Action, Adventure, Comedy, Science Fiction]</td>\n",
       "      <td>Kay and Jay reunite to provide our best, last ...</td>\n",
       "      <td>[Tommy Lee Jones, Will Smith, Rip Torn, Lara F...</td>\n",
       "      <td>[Barry Sonnenfeld]</td>\n",
       "      <td>4.256696</td>\n",
       "      <td>/rWcgZaoJ0nxTFRn0H6w9bdtoDUI.jpg</td>\n",
       "    </tr>\n",
       "    <tr>\n",
       "      <th>2</th>\n",
       "      <td>296</td>\n",
       "      <td>Terminator 3: Rise of the Machines</td>\n",
       "      <td>[Action, Thriller, Science Fiction]</td>\n",
       "      <td>It's been 10 years since John Connor saved Ear...</td>\n",
       "      <td>[Arnold Schwarzenegger, Nick Stahl, Claire Dan...</td>\n",
       "      <td>[Jonathan Mostow]</td>\n",
       "      <td>4.256173</td>\n",
       "      <td>/vxiKtcxAJxHhlg2H1X8y7zcM3k6.jpg</td>\n",
       "    </tr>\n",
       "    <tr>\n",
       "      <th>3</th>\n",
       "      <td>457</td>\n",
       "      <td>Sissi</td>\n",
       "      <td>[Comedy, Drama, Romance]</td>\n",
       "      <td>The young Bavarian princess Elisabeth, who all...</td>\n",
       "      <td>[Romy Schneider, Karlheinz Böhm, Magda Schneid...</td>\n",
       "      <td>[Ernst Marischka]</td>\n",
       "      <td>3.953052</td>\n",
       "      <td>/4tVV2YsrhK2hi43LlqNBRBvmsIQ.jpg</td>\n",
       "    </tr>\n",
       "    <tr>\n",
       "      <th>4</th>\n",
       "      <td>110</td>\n",
       "      <td>Trois couleurs : Rouge</td>\n",
       "      <td>[Drama, Mystery, Romance]</td>\n",
       "      <td>Red This is the third film from the trilogy by...</td>\n",
       "      <td>[Irène Jacob, Jean-Louis Trintignant, Jean-Pie...</td>\n",
       "      <td>[Krzysztof Kieślowski]</td>\n",
       "      <td>3.945175</td>\n",
       "      <td>/rVdd23QuT5rHX7lZvuAkRRUkeCZ.jpg</td>\n",
       "    </tr>\n",
       "    <tr>\n",
       "      <th>5</th>\n",
       "      <td>2502</td>\n",
       "      <td>The Bourne Supremacy</td>\n",
       "      <td>[Action, Drama, Thriller]</td>\n",
       "      <td>When a CIA operation to purchase classified Ru...</td>\n",
       "      <td>[Matt Damon, Franka Potente, Brian Cox, Julia ...</td>\n",
       "      <td>[Paul Greengrass]</td>\n",
       "      <td>3.915094</td>\n",
       "      <td>/lTfOZ25PhQkmGb5NHmaFnwB7b13.jpg</td>\n",
       "    </tr>\n",
       "    <tr>\n",
       "      <th>6</th>\n",
       "      <td>150</td>\n",
       "      <td>48 Hrs.</td>\n",
       "      <td>[Thriller, Action, Comedy, Crime, Drama]</td>\n",
       "      <td>A hard-nosed cop reluctantly teams up with a w...</td>\n",
       "      <td>[Nick Nolte, Eddie Murphy, Annette O'Toole, Fr...</td>\n",
       "      <td>[Walter Hill]</td>\n",
       "      <td>3.902500</td>\n",
       "      <td>/8Dlcb8aDch6sUcWBc8zSSfNbPgG.jpg</td>\n",
       "    </tr>\n",
       "    <tr>\n",
       "      <th>7</th>\n",
       "      <td>1682</td>\n",
       "      <td>Mosura tai Gojira</td>\n",
       "      <td>[Fantasy, Science Fiction, Action, Adventure]</td>\n",
       "      <td>The 4th film in the Godzilla franchise restore...</td>\n",
       "      <td>[Akira Takarada, Yuriko Hoshi, Hiroshi Koizumi...</td>\n",
       "      <td>[Ishirô Honda]</td>\n",
       "      <td>3.886861</td>\n",
       "      <td>/scvwS6k8gIW8w24UcmePQqVL10l.jpg</td>\n",
       "    </tr>\n",
       "    <tr>\n",
       "      <th>8</th>\n",
       "      <td>8961</td>\n",
       "      <td>Bad Boys II</td>\n",
       "      <td>[Adventure, Action, Comedy, Thriller, Crime]</td>\n",
       "      <td>Out-of-control, trash-talking buddy cops Marcu...</td>\n",
       "      <td>[Martin Lawrence, Will Smith, Jordi Mollà, Gab...</td>\n",
       "      <td>[Michael Bay]</td>\n",
       "      <td>3.861111</td>\n",
       "      <td>/tSVbihfvVTCbcm0zXKA7L8R6Y9v.jpg</td>\n",
       "    </tr>\n",
       "    <tr>\n",
       "      <th>9</th>\n",
       "      <td>2791</td>\n",
       "      <td>The Chronicles of Riddick: Dark Fury</td>\n",
       "      <td>[Action, Animation, Science Fiction, Thriller]</td>\n",
       "      <td>After their narrow escape at the end of \"Pitch...</td>\n",
       "      <td>[Vin Diesel, Rhiana Griffith, Keith David, Nic...</td>\n",
       "      <td>[Peter Chung]</td>\n",
       "      <td>3.820755</td>\n",
       "      <td>/4R2zrqk9KzgxU9UDH3yUUsENXR.jpg</td>\n",
       "    </tr>\n",
       "    <tr>\n",
       "      <th>10</th>\n",
       "      <td>364</td>\n",
       "      <td>Batman Returns</td>\n",
       "      <td>[Action, Fantasy]</td>\n",
       "      <td>Having defeated the Joker, Batman now faces th...</td>\n",
       "      <td>[Michael Keaton, Danny DeVito, Michelle Pfeiff...</td>\n",
       "      <td>[Tim Burton]</td>\n",
       "      <td>3.777500</td>\n",
       "      <td>/adQxUvQW8HXNsvMG5aj71pHh9T.jpg</td>\n",
       "    </tr>\n",
       "    <tr>\n",
       "      <th>11</th>\n",
       "      <td>25</td>\n",
       "      <td>Jarhead</td>\n",
       "      <td>[Drama, War]</td>\n",
       "      <td>Jarhead is a film about a US Marine Anthony Sw...</td>\n",
       "      <td>[Jamie Foxx, Jake Gyllenhaal, Scott MacDonald,...</td>\n",
       "      <td>[Sam Mendes]</td>\n",
       "      <td>3.742574</td>\n",
       "      <td>/aRFpBjCseFD6UmahAuLdqS7Or5q.jpg</td>\n",
       "    </tr>\n",
       "    <tr>\n",
       "      <th>12</th>\n",
       "      <td>588</td>\n",
       "      <td>Silent Hill</td>\n",
       "      <td>[Horror, Mystery]</td>\n",
       "      <td>The eerie and deserted ghost town of Silent Hi...</td>\n",
       "      <td>[Radha Mitchell, Sean Bean, Laurie Holden, Deb...</td>\n",
       "      <td>[Christophe Gans]</td>\n",
       "      <td>3.674419</td>\n",
       "      <td>/4cJgWqtVfVxxzpqyKkUtClHY0VM.jpg</td>\n",
       "    </tr>\n",
       "    <tr>\n",
       "      <th>13</th>\n",
       "      <td>377</td>\n",
       "      <td>A Nightmare on Elm Street</td>\n",
       "      <td>[Horror]</td>\n",
       "      <td>Teenagers in a small town are dropping like fl...</td>\n",
       "      <td>[John Saxon, Ronee Blakley, Heather Langenkamp...</td>\n",
       "      <td>[Wes Craven]</td>\n",
       "      <td>3.566667</td>\n",
       "      <td>/BcgmrOz69AUBRukw5LLGeYsOgo.jpg</td>\n",
       "    </tr>\n",
       "    <tr>\n",
       "      <th>14</th>\n",
       "      <td>165</td>\n",
       "      <td>Back to the Future Part II</td>\n",
       "      <td>[Adventure, Comedy, Family, Science Fiction]</td>\n",
       "      <td>Marty and Doc are at it again in this wacky se...</td>\n",
       "      <td>[Michael J. Fox, Christopher Lloyd, Lea Thomps...</td>\n",
       "      <td>[Robert Zemeckis]</td>\n",
       "      <td>3.443662</td>\n",
       "      <td>/UV8VEgAxgKVnCVnZhFACmhxjE4.jpg</td>\n",
       "    </tr>\n",
       "    <tr>\n",
       "      <th>15</th>\n",
       "      <td>539</td>\n",
       "      <td>Psycho</td>\n",
       "      <td>[Drama, Horror, Thriller]</td>\n",
       "      <td>When larcenous real estate clerk Marion Crane ...</td>\n",
       "      <td>[Anthony Perkins, Vera Miles, John Gavin, Jane...</td>\n",
       "      <td>[Alfred Hitchcock]</td>\n",
       "      <td>3.428000</td>\n",
       "      <td>/29pDqAgmb4idzWzuZncoT7LZplA.jpg</td>\n",
       "    </tr>\n",
       "    <tr>\n",
       "      <th>16</th>\n",
       "      <td>253</td>\n",
       "      <td>Live and Let Die</td>\n",
       "      <td>[Adventure, Action, Thriller]</td>\n",
       "      <td>James Bond must investigate a mysterious murde...</td>\n",
       "      <td>[Roger Moore, Yaphet Kotto, Jane Seymour, Clif...</td>\n",
       "      <td>[Guy Hamilton]</td>\n",
       "      <td>3.396000</td>\n",
       "      <td>/HORpg5CSkmeQlAolx3bKMrKgfi.jpg</td>\n",
       "    </tr>\n",
       "    <tr>\n",
       "      <th>17</th>\n",
       "      <td>329</td>\n",
       "      <td>Jurassic Park</td>\n",
       "      <td>[Adventure, Science Fiction]</td>\n",
       "      <td>A wealthy entrepreneur secretly creates a them...</td>\n",
       "      <td>[Sam Neill, Laura Dern, Jeff Goldblum, Richard...</td>\n",
       "      <td>[Steven Spielberg]</td>\n",
       "      <td>3.350877</td>\n",
       "      <td>/qIm2nHXLpBBdMxi8dvfrnDkBUDh.jpg</td>\n",
       "    </tr>\n",
       "    <tr>\n",
       "      <th>18</th>\n",
       "      <td>344</td>\n",
       "      <td>Bang Boom Bang - Ein todsicheres Ding</td>\n",
       "      <td>[Crime, Action, Comedy]</td>\n",
       "      <td>Bank robber Kelle Grabowski escapes from priso...</td>\n",
       "      <td>[Oliver Korittke, Markus Knüfken, Ralf Richter...</td>\n",
       "      <td>[Peter Thorwarth]</td>\n",
       "      <td>2.871429</td>\n",
       "      <td>/lVF4mWjtJdAGYjMrtspnoOlKOYF.jpg</td>\n",
       "    </tr>\n",
       "  </tbody>\n",
       "</table>\n",
       "</div>"
      ],
      "text/plain": [
       "      id                         original_title  \\\n",
       "0    527                     Once Were Warriors   \n",
       "1    608                        Men in Black II   \n",
       "2    296     Terminator 3: Rise of the Machines   \n",
       "3    457                                  Sissi   \n",
       "4    110                 Trois couleurs : Rouge   \n",
       "5   2502                   The Bourne Supremacy   \n",
       "6    150                                48 Hrs.   \n",
       "7   1682                      Mosura tai Gojira   \n",
       "8   8961                            Bad Boys II   \n",
       "9   2791   The Chronicles of Riddick: Dark Fury   \n",
       "10   364                         Batman Returns   \n",
       "11    25                                Jarhead   \n",
       "12   588                            Silent Hill   \n",
       "13   377              A Nightmare on Elm Street   \n",
       "14   165             Back to the Future Part II   \n",
       "15   539                                 Psycho   \n",
       "16   253                       Live and Let Die   \n",
       "17   329                          Jurassic Park   \n",
       "18   344  Bang Boom Bang - Ein todsicheres Ding   \n",
       "\n",
       "                                            genres  \\\n",
       "0                                          [Drama]   \n",
       "1     [Action, Adventure, Comedy, Science Fiction]   \n",
       "2              [Action, Thriller, Science Fiction]   \n",
       "3                         [Comedy, Drama, Romance]   \n",
       "4                        [Drama, Mystery, Romance]   \n",
       "5                        [Action, Drama, Thriller]   \n",
       "6         [Thriller, Action, Comedy, Crime, Drama]   \n",
       "7    [Fantasy, Science Fiction, Action, Adventure]   \n",
       "8     [Adventure, Action, Comedy, Thriller, Crime]   \n",
       "9   [Action, Animation, Science Fiction, Thriller]   \n",
       "10                               [Action, Fantasy]   \n",
       "11                                    [Drama, War]   \n",
       "12                               [Horror, Mystery]   \n",
       "13                                        [Horror]   \n",
       "14    [Adventure, Comedy, Family, Science Fiction]   \n",
       "15                       [Drama, Horror, Thriller]   \n",
       "16                   [Adventure, Action, Thriller]   \n",
       "17                    [Adventure, Science Fiction]   \n",
       "18                         [Crime, Action, Comedy]   \n",
       "\n",
       "                                             overview  \\\n",
       "0   A drama about a Maori family lving in Auckland...   \n",
       "1   Kay and Jay reunite to provide our best, last ...   \n",
       "2   It's been 10 years since John Connor saved Ear...   \n",
       "3   The young Bavarian princess Elisabeth, who all...   \n",
       "4   Red This is the third film from the trilogy by...   \n",
       "5   When a CIA operation to purchase classified Ru...   \n",
       "6   A hard-nosed cop reluctantly teams up with a w...   \n",
       "7   The 4th film in the Godzilla franchise restore...   \n",
       "8   Out-of-control, trash-talking buddy cops Marcu...   \n",
       "9   After their narrow escape at the end of \"Pitch...   \n",
       "10  Having defeated the Joker, Batman now faces th...   \n",
       "11  Jarhead is a film about a US Marine Anthony Sw...   \n",
       "12  The eerie and deserted ghost town of Silent Hi...   \n",
       "13  Teenagers in a small town are dropping like fl...   \n",
       "14  Marty and Doc are at it again in this wacky se...   \n",
       "15  When larcenous real estate clerk Marion Crane ...   \n",
       "16  James Bond must investigate a mysterious murde...   \n",
       "17  A wealthy entrepreneur secretly creates a them...   \n",
       "18  Bank robber Kelle Grabowski escapes from priso...   \n",
       "\n",
       "                                                 cast                    crew  \\\n",
       "0   [Rena Owen, Temuera Morrison, Mamaengaroa Kerr...          [Lee Tamahori]   \n",
       "1   [Tommy Lee Jones, Will Smith, Rip Torn, Lara F...      [Barry Sonnenfeld]   \n",
       "2   [Arnold Schwarzenegger, Nick Stahl, Claire Dan...       [Jonathan Mostow]   \n",
       "3   [Romy Schneider, Karlheinz Böhm, Magda Schneid...       [Ernst Marischka]   \n",
       "4   [Irène Jacob, Jean-Louis Trintignant, Jean-Pie...  [Krzysztof Kieślowski]   \n",
       "5   [Matt Damon, Franka Potente, Brian Cox, Julia ...       [Paul Greengrass]   \n",
       "6   [Nick Nolte, Eddie Murphy, Annette O'Toole, Fr...           [Walter Hill]   \n",
       "7   [Akira Takarada, Yuriko Hoshi, Hiroshi Koizumi...          [Ishirô Honda]   \n",
       "8   [Martin Lawrence, Will Smith, Jordi Mollà, Gab...           [Michael Bay]   \n",
       "9   [Vin Diesel, Rhiana Griffith, Keith David, Nic...           [Peter Chung]   \n",
       "10  [Michael Keaton, Danny DeVito, Michelle Pfeiff...            [Tim Burton]   \n",
       "11  [Jamie Foxx, Jake Gyllenhaal, Scott MacDonald,...            [Sam Mendes]   \n",
       "12  [Radha Mitchell, Sean Bean, Laurie Holden, Deb...       [Christophe Gans]   \n",
       "13  [John Saxon, Ronee Blakley, Heather Langenkamp...            [Wes Craven]   \n",
       "14  [Michael J. Fox, Christopher Lloyd, Lea Thomps...       [Robert Zemeckis]   \n",
       "15  [Anthony Perkins, Vera Miles, John Gavin, Jane...      [Alfred Hitchcock]   \n",
       "16  [Roger Moore, Yaphet Kotto, Jane Seymour, Clif...          [Guy Hamilton]   \n",
       "17  [Sam Neill, Laura Dern, Jeff Goldblum, Richard...      [Steven Spielberg]   \n",
       "18  [Oliver Korittke, Markus Knüfken, Ralf Richter...       [Peter Thorwarth]   \n",
       "\n",
       "    avg_rating             belongs_to_collection  \n",
       "0     4.303279                              None  \n",
       "1     4.256696  /rWcgZaoJ0nxTFRn0H6w9bdtoDUI.jpg  \n",
       "2     4.256173  /vxiKtcxAJxHhlg2H1X8y7zcM3k6.jpg  \n",
       "3     3.953052  /4tVV2YsrhK2hi43LlqNBRBvmsIQ.jpg  \n",
       "4     3.945175  /rVdd23QuT5rHX7lZvuAkRRUkeCZ.jpg  \n",
       "5     3.915094  /lTfOZ25PhQkmGb5NHmaFnwB7b13.jpg  \n",
       "6     3.902500  /8Dlcb8aDch6sUcWBc8zSSfNbPgG.jpg  \n",
       "7     3.886861  /scvwS6k8gIW8w24UcmePQqVL10l.jpg  \n",
       "8     3.861111  /tSVbihfvVTCbcm0zXKA7L8R6Y9v.jpg  \n",
       "9     3.820755   /4R2zrqk9KzgxU9UDH3yUUsENXR.jpg  \n",
       "10    3.777500   /adQxUvQW8HXNsvMG5aj71pHh9T.jpg  \n",
       "11    3.742574  /aRFpBjCseFD6UmahAuLdqS7Or5q.jpg  \n",
       "12    3.674419  /4cJgWqtVfVxxzpqyKkUtClHY0VM.jpg  \n",
       "13    3.566667   /BcgmrOz69AUBRukw5LLGeYsOgo.jpg  \n",
       "14    3.443662   /UV8VEgAxgKVnCVnZhFACmhxjE4.jpg  \n",
       "15    3.428000  /29pDqAgmb4idzWzuZncoT7LZplA.jpg  \n",
       "16    3.396000   /HORpg5CSkmeQlAolx3bKMrKgfi.jpg  \n",
       "17    3.350877  /qIm2nHXLpBBdMxi8dvfrnDkBUDh.jpg  \n",
       "18    2.871429  /lVF4mWjtJdAGYjMrtspnoOlKOYF.jpg  "
      ]
     },
     "execution_count": 212,
     "metadata": {},
     "output_type": "execute_result"
    }
   ],
   "source": [
    "popular_df"
   ]
  },
  {
   "cell_type": "code",
   "execution_count": 213,
   "id": "eee3bd84",
   "metadata": {},
   "outputs": [],
   "source": [
    "popular_df1 = popular_df.sort_values('avg_rating',ascending=True).head(5)"
   ]
  },
  {
   "cell_type": "code",
   "execution_count": 214,
   "id": "3e49a576",
   "metadata": {},
   "outputs": [
    {
     "data": {
      "text/html": [
       "<div>\n",
       "<style scoped>\n",
       "    .dataframe tbody tr th:only-of-type {\n",
       "        vertical-align: middle;\n",
       "    }\n",
       "\n",
       "    .dataframe tbody tr th {\n",
       "        vertical-align: top;\n",
       "    }\n",
       "\n",
       "    .dataframe thead th {\n",
       "        text-align: right;\n",
       "    }\n",
       "</style>\n",
       "<table border=\"1\" class=\"dataframe\">\n",
       "  <thead>\n",
       "    <tr style=\"text-align: right;\">\n",
       "      <th></th>\n",
       "      <th>id</th>\n",
       "      <th>original_title</th>\n",
       "      <th>genres</th>\n",
       "      <th>overview</th>\n",
       "      <th>cast</th>\n",
       "      <th>crew</th>\n",
       "      <th>avg_rating</th>\n",
       "      <th>belongs_to_collection</th>\n",
       "    </tr>\n",
       "  </thead>\n",
       "  <tbody>\n",
       "    <tr>\n",
       "      <th>18</th>\n",
       "      <td>344</td>\n",
       "      <td>Bang Boom Bang - Ein todsicheres Ding</td>\n",
       "      <td>[Crime, Action, Comedy]</td>\n",
       "      <td>Bank robber Kelle Grabowski escapes from priso...</td>\n",
       "      <td>[Oliver Korittke, Markus Knüfken, Ralf Richter...</td>\n",
       "      <td>[Peter Thorwarth]</td>\n",
       "      <td>2.871429</td>\n",
       "      <td>/lVF4mWjtJdAGYjMrtspnoOlKOYF.jpg</td>\n",
       "    </tr>\n",
       "    <tr>\n",
       "      <th>17</th>\n",
       "      <td>329</td>\n",
       "      <td>Jurassic Park</td>\n",
       "      <td>[Adventure, Science Fiction]</td>\n",
       "      <td>A wealthy entrepreneur secretly creates a them...</td>\n",
       "      <td>[Sam Neill, Laura Dern, Jeff Goldblum, Richard...</td>\n",
       "      <td>[Steven Spielberg]</td>\n",
       "      <td>3.350877</td>\n",
       "      <td>/qIm2nHXLpBBdMxi8dvfrnDkBUDh.jpg</td>\n",
       "    </tr>\n",
       "    <tr>\n",
       "      <th>16</th>\n",
       "      <td>253</td>\n",
       "      <td>Live and Let Die</td>\n",
       "      <td>[Adventure, Action, Thriller]</td>\n",
       "      <td>James Bond must investigate a mysterious murde...</td>\n",
       "      <td>[Roger Moore, Yaphet Kotto, Jane Seymour, Clif...</td>\n",
       "      <td>[Guy Hamilton]</td>\n",
       "      <td>3.396000</td>\n",
       "      <td>/HORpg5CSkmeQlAolx3bKMrKgfi.jpg</td>\n",
       "    </tr>\n",
       "    <tr>\n",
       "      <th>15</th>\n",
       "      <td>539</td>\n",
       "      <td>Psycho</td>\n",
       "      <td>[Drama, Horror, Thriller]</td>\n",
       "      <td>When larcenous real estate clerk Marion Crane ...</td>\n",
       "      <td>[Anthony Perkins, Vera Miles, John Gavin, Jane...</td>\n",
       "      <td>[Alfred Hitchcock]</td>\n",
       "      <td>3.428000</td>\n",
       "      <td>/29pDqAgmb4idzWzuZncoT7LZplA.jpg</td>\n",
       "    </tr>\n",
       "    <tr>\n",
       "      <th>14</th>\n",
       "      <td>165</td>\n",
       "      <td>Back to the Future Part II</td>\n",
       "      <td>[Adventure, Comedy, Family, Science Fiction]</td>\n",
       "      <td>Marty and Doc are at it again in this wacky se...</td>\n",
       "      <td>[Michael J. Fox, Christopher Lloyd, Lea Thomps...</td>\n",
       "      <td>[Robert Zemeckis]</td>\n",
       "      <td>3.443662</td>\n",
       "      <td>/UV8VEgAxgKVnCVnZhFACmhxjE4.jpg</td>\n",
       "    </tr>\n",
       "  </tbody>\n",
       "</table>\n",
       "</div>"
      ],
      "text/plain": [
       "     id                         original_title  \\\n",
       "18  344  Bang Boom Bang - Ein todsicheres Ding   \n",
       "17  329                          Jurassic Park   \n",
       "16  253                       Live and Let Die   \n",
       "15  539                                 Psycho   \n",
       "14  165             Back to the Future Part II   \n",
       "\n",
       "                                          genres  \\\n",
       "18                       [Crime, Action, Comedy]   \n",
       "17                  [Adventure, Science Fiction]   \n",
       "16                 [Adventure, Action, Thriller]   \n",
       "15                     [Drama, Horror, Thriller]   \n",
       "14  [Adventure, Comedy, Family, Science Fiction]   \n",
       "\n",
       "                                             overview  \\\n",
       "18  Bank robber Kelle Grabowski escapes from priso...   \n",
       "17  A wealthy entrepreneur secretly creates a them...   \n",
       "16  James Bond must investigate a mysterious murde...   \n",
       "15  When larcenous real estate clerk Marion Crane ...   \n",
       "14  Marty and Doc are at it again in this wacky se...   \n",
       "\n",
       "                                                 cast                crew  \\\n",
       "18  [Oliver Korittke, Markus Knüfken, Ralf Richter...   [Peter Thorwarth]   \n",
       "17  [Sam Neill, Laura Dern, Jeff Goldblum, Richard...  [Steven Spielberg]   \n",
       "16  [Roger Moore, Yaphet Kotto, Jane Seymour, Clif...      [Guy Hamilton]   \n",
       "15  [Anthony Perkins, Vera Miles, John Gavin, Jane...  [Alfred Hitchcock]   \n",
       "14  [Michael J. Fox, Christopher Lloyd, Lea Thomps...   [Robert Zemeckis]   \n",
       "\n",
       "    avg_rating             belongs_to_collection  \n",
       "18    2.871429  /lVF4mWjtJdAGYjMrtspnoOlKOYF.jpg  \n",
       "17    3.350877  /qIm2nHXLpBBdMxi8dvfrnDkBUDh.jpg  \n",
       "16    3.396000   /HORpg5CSkmeQlAolx3bKMrKgfi.jpg  \n",
       "15    3.428000  /29pDqAgmb4idzWzuZncoT7LZplA.jpg  \n",
       "14    3.443662   /UV8VEgAxgKVnCVnZhFACmhxjE4.jpg  "
      ]
     },
     "execution_count": 214,
     "metadata": {},
     "output_type": "execute_result"
    }
   ],
   "source": [
    "popular_df1"
   ]
  },
  {
   "cell_type": "code",
   "execution_count": 215,
   "id": "f078a24f",
   "metadata": {},
   "outputs": [
    {
     "data": {
      "text/plain": [
       "(19, 8)"
      ]
     },
     "execution_count": 215,
     "metadata": {},
     "output_type": "execute_result"
    }
   ],
   "source": [
    "popular_df.shape"
   ]
  },
  {
   "cell_type": "code",
   "execution_count": 216,
   "id": "8a7b8bca",
   "metadata": {},
   "outputs": [],
   "source": [
    "users1 = users[['userid','fname','email','password']]"
   ]
  },
  {
   "cell_type": "markdown",
   "id": "3c60eb3e",
   "metadata": {},
   "source": [
    "Collaberative "
   ]
  },
  {
   "cell_type": "code",
   "execution_count": 221,
   "id": "e7f53b24",
   "metadata": {},
   "outputs": [
    {
     "data": {
      "text/plain": [
       "(19, 8)"
      ]
     },
     "execution_count": 221,
     "metadata": {},
     "output_type": "execute_result"
    }
   ],
   "source": [
    "popular_df.shape"
   ]
  },
  {
   "cell_type": "code",
   "execution_count": 143,
   "id": "2cce21ec",
   "metadata": {},
   "outputs": [],
   "source": []
  },
  {
   "cell_type": "code",
   "execution_count": null,
   "id": "65d486fb",
   "metadata": {},
   "outputs": [],
   "source": []
  },
  {
   "cell_type": "code",
   "execution_count": null,
   "id": "13b2d5aa",
   "metadata": {},
   "outputs": [],
   "source": []
  },
  {
   "cell_type": "code",
   "execution_count": null,
   "id": "4a653980",
   "metadata": {},
   "outputs": [],
   "source": []
  },
  {
   "cell_type": "code",
   "execution_count": 150,
   "id": "0259015b",
   "metadata": {},
   "outputs": [],
   "source": []
  },
  {
   "cell_type": "code",
   "execution_count": null,
   "id": "7fbdd8ab",
   "metadata": {},
   "outputs": [],
   "source": []
  },
  {
   "cell_type": "code",
   "execution_count": null,
   "id": "ac3c4475",
   "metadata": {},
   "outputs": [],
   "source": []
  }
 ],
 "metadata": {
  "kernelspec": {
   "display_name": "Python 3 (ipykernel)",
   "language": "python",
   "name": "python3"
  },
  "language_info": {
   "codemirror_mode": {
    "name": "ipython",
    "version": 3
   },
   "file_extension": ".py",
   "mimetype": "text/x-python",
   "name": "python",
   "nbconvert_exporter": "python",
   "pygments_lexer": "ipython3",
   "version": "3.9.2"
  }
 },
 "nbformat": 4,
 "nbformat_minor": 5
}
